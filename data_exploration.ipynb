{
 "cells": [
  {
   "cell_type": "markdown",
   "metadata": {},
   "source": [
    "# Data exploration"
   ]
  },
  {
   "cell_type": "code",
   "execution_count": 2,
   "metadata": {},
   "outputs": [],
   "source": [
    "import pandas as pd"
   ]
  },
  {
   "cell_type": "code",
   "execution_count": 3,
   "metadata": {},
   "outputs": [],
   "source": [
    "pubchem_db = r'C:\\Users\\pecho\\Documents\\serotonin_receptor_project\\databases\\clean_dbs\\pubchem_human_5ht6.csv'\n",
    "chembl_db = r'C:\\Users\\pecho\\Documents\\serotonin_receptor_project\\databases\\clean_dbs\\chembl_human_5ht6.csv'"
   ]
  },
  {
   "cell_type": "code",
   "execution_count": 4,
   "metadata": {},
   "outputs": [],
   "source": [
    "pubchem_df = pd.read_csv(pubchem_db, sep='\\t')\n",
    "chembl_df = pd.read_csv(chembl_db, sep='\\t')"
   ]
  },
  {
   "cell_type": "code",
   "execution_count": 34,
   "metadata": {},
   "outputs": [
    {
     "data": {
      "text/html": [
       "<div>\n",
       "<style scoped>\n",
       "    .dataframe tbody tr th:only-of-type {\n",
       "        vertical-align: middle;\n",
       "    }\n",
       "\n",
       "    .dataframe tbody tr th {\n",
       "        vertical-align: top;\n",
       "    }\n",
       "\n",
       "    .dataframe thead th {\n",
       "        text-align: right;\n",
       "    }\n",
       "</style>\n",
       "<table border=\"1\" class=\"dataframe\">\n",
       "  <thead>\n",
       "    <tr style=\"text-align: right;\">\n",
       "      <th></th>\n",
       "      <th>Standard Type</th>\n",
       "      <th>Standard Value</th>\n",
       "      <th>Smiles</th>\n",
       "    </tr>\n",
       "  </thead>\n",
       "  <tbody>\n",
       "    <tr>\n",
       "      <th>0</th>\n",
       "      <td>Ki</td>\n",
       "      <td>1.0000</td>\n",
       "      <td>C1CCN(C1)C2=NC(=CC(=C2)S(=O)(=O)C3=CC=C(C=C3)N)Br</td>\n",
       "    </tr>\n",
       "    <tr>\n",
       "      <th>1</th>\n",
       "      <td>Ki</td>\n",
       "      <td>2.2910</td>\n",
       "      <td>CNC1=NC(=CC(=C1)S(=O)(=O)C2=CC=C(C=C2)N)Br</td>\n",
       "    </tr>\n",
       "    <tr>\n",
       "      <th>2</th>\n",
       "      <td>Ki</td>\n",
       "      <td>0.1148</td>\n",
       "      <td>C1CN(CCN1)C2=NC(=CC(=C2)S(=O)(=O)C3=CC=C(C=C3)...</td>\n",
       "    </tr>\n",
       "    <tr>\n",
       "      <th>3</th>\n",
       "      <td>Ki</td>\n",
       "      <td>53.7000</td>\n",
       "      <td>C1=CC(=CC=C1N)S(=O)(=O)C2=CC(=NC(=C2)Br)Br</td>\n",
       "    </tr>\n",
       "    <tr>\n",
       "      <th>4</th>\n",
       "      <td>Ki</td>\n",
       "      <td>54.9500</td>\n",
       "      <td>CNC1=CC(=NC(=N1)NC)NS(=O)(=O)C2=CC=C(C=C2)N.Br.Br</td>\n",
       "    </tr>\n",
       "    <tr>\n",
       "      <th>...</th>\n",
       "      <td>...</td>\n",
       "      <td>...</td>\n",
       "      <td>...</td>\n",
       "    </tr>\n",
       "    <tr>\n",
       "      <th>3058</th>\n",
       "      <td>Ki</td>\n",
       "      <td>102.0000</td>\n",
       "      <td>C1CNCC=C1C2=CN(C3=C2C=CC(=C3)Cl)S(=O)(=O)C4=CC...</td>\n",
       "    </tr>\n",
       "    <tr>\n",
       "      <th>3059</th>\n",
       "      <td>Ki</td>\n",
       "      <td>30.0000</td>\n",
       "      <td>COC1=CC2=C(C=C1)N(C=C2C3CCNCC3)S(=O)(=O)C4=CC5...</td>\n",
       "    </tr>\n",
       "    <tr>\n",
       "      <th>3060</th>\n",
       "      <td>Ki</td>\n",
       "      <td>14.0000</td>\n",
       "      <td>COC1=CC2=C(C=C1)N(C=C2C3=CCNCC3)S(=O)(=O)C4=CC...</td>\n",
       "    </tr>\n",
       "    <tr>\n",
       "      <th>3061</th>\n",
       "      <td>Ki</td>\n",
       "      <td>7.0000</td>\n",
       "      <td>C1CNCC=C1C2=CN(C3=CC=CC=C32)S(=O)(=O)C4=CC5=C(...</td>\n",
       "    </tr>\n",
       "    <tr>\n",
       "      <th>3062</th>\n",
       "      <td>Ki</td>\n",
       "      <td>11.0000</td>\n",
       "      <td>C1CNCC=C1C2=CN(C3=C2C=C(C=C3)Cl)S(=O)(=O)C4=CC...</td>\n",
       "    </tr>\n",
       "  </tbody>\n",
       "</table>\n",
       "<p>3063 rows × 3 columns</p>\n",
       "</div>"
      ],
      "text/plain": [
       "     Standard Type  Standard Value  \\\n",
       "0               Ki          1.0000   \n",
       "1               Ki          2.2910   \n",
       "2               Ki          0.1148   \n",
       "3               Ki         53.7000   \n",
       "4               Ki         54.9500   \n",
       "...            ...             ...   \n",
       "3058            Ki        102.0000   \n",
       "3059            Ki         30.0000   \n",
       "3060            Ki         14.0000   \n",
       "3061            Ki          7.0000   \n",
       "3062            Ki         11.0000   \n",
       "\n",
       "                                                 Smiles  \n",
       "0     C1CCN(C1)C2=NC(=CC(=C2)S(=O)(=O)C3=CC=C(C=C3)N)Br  \n",
       "1            CNC1=NC(=CC(=C1)S(=O)(=O)C2=CC=C(C=C2)N)Br  \n",
       "2     C1CN(CCN1)C2=NC(=CC(=C2)S(=O)(=O)C3=CC=C(C=C3)...  \n",
       "3            C1=CC(=CC=C1N)S(=O)(=O)C2=CC(=NC(=C2)Br)Br  \n",
       "4     CNC1=CC(=NC(=N1)NC)NS(=O)(=O)C2=CC=C(C=C2)N.Br.Br  \n",
       "...                                                 ...  \n",
       "3058  C1CNCC=C1C2=CN(C3=C2C=CC(=C3)Cl)S(=O)(=O)C4=CC...  \n",
       "3059  COC1=CC2=C(C=C1)N(C=C2C3CCNCC3)S(=O)(=O)C4=CC5...  \n",
       "3060  COC1=CC2=C(C=C1)N(C=C2C3=CCNCC3)S(=O)(=O)C4=CC...  \n",
       "3061  C1CNCC=C1C2=CN(C3=CC=CC=C32)S(=O)(=O)C4=CC5=C(...  \n",
       "3062  C1CNCC=C1C2=CN(C3=C2C=C(C=C3)Cl)S(=O)(=O)C4=CC...  \n",
       "\n",
       "[3063 rows x 3 columns]"
      ]
     },
     "execution_count": 34,
     "metadata": {},
     "output_type": "execute_result"
    }
   ],
   "source": [
    "pubchem_df"
   ]
  },
  {
   "cell_type": "code",
   "execution_count": 25,
   "metadata": {},
   "outputs": [
    {
     "data": {
      "text/plain": [
       "675.4657842964406"
      ]
     },
     "execution_count": 25,
     "metadata": {},
     "output_type": "execute_result"
    }
   ],
   "source": [
    "pubchem_df['Standard Value'].mean()"
   ]
  },
  {
   "cell_type": "code",
   "execution_count": 26,
   "metadata": {},
   "outputs": [
    {
     "data": {
      "text/plain": [
       "array([[<AxesSubplot:title={'center':'Standard Value'}>]], dtype=object)"
      ]
     },
     "execution_count": 26,
     "metadata": {},
     "output_type": "execute_result"
    },
    {
     "data": {
      "image/png": "[encoded data removed]",
      "text/plain": [
       "<Figure size 432x288 with 1 Axes>"
      ]
     },
     "metadata": {
      "needs_background": "light"
     },
     "output_type": "display_data"
    }
   ],
   "source": [
    "pubchem_df.hist(bins=50)"
   ]
  },
  {
   "cell_type": "code",
   "execution_count": 37,
   "metadata": {},
   "outputs": [
    {
     "ename": "AttributeError",
     "evalue": "module 'pandas' has no attribute 'plot'",
     "output_type": "error",
     "traceback": [
      "\u001b[1;31m---------------------------------------------------------------------------\u001b[0m",
      "\u001b[1;31mAttributeError\u001b[0m                            Traceback (most recent call last)",
      "\u001b[1;32m~\\AppData\\Local\\Temp\\ipykernel_6508\\128736387.py\u001b[0m in \u001b[0;36m<module>\u001b[1;34m\u001b[0m\n\u001b[1;32m----> 1\u001b[1;33m \u001b[0mpd\u001b[0m\u001b[1;33m.\u001b[0m\u001b[0mplot\u001b[0m\u001b[1;33m.\u001b[0m\u001b[0mscatter\u001b[0m\u001b[1;33m(\u001b[0m\u001b[0mx\u001b[0m\u001b[1;33m=\u001b[0m\u001b[0mrange\u001b[0m\u001b[1;33m(\u001b[0m\u001b[1;36m3063\u001b[0m\u001b[1;33m)\u001b[0m\u001b[1;33m,\u001b[0m \u001b[0my\u001b[0m\u001b[1;33m=\u001b[0m\u001b[0mpubchem_df\u001b[0m\u001b[1;33m[\u001b[0m\u001b[1;34m'Standard Value'\u001b[0m\u001b[1;33m]\u001b[0m\u001b[1;33m)\u001b[0m\u001b[1;33m\u001b[0m\u001b[1;33m\u001b[0m\u001b[0m\n\u001b[0m",
      "\u001b[1;32mc:\\Users\\pecho\\miniconda3\\envs\\rdkit-env\\lib\\site-packages\\pandas\\__init__.py\u001b[0m in \u001b[0;36m__getattr__\u001b[1;34m(name)\u001b[0m\n\u001b[0;32m    242\u001b[0m         \u001b[1;32mreturn\u001b[0m \u001b[0m_SparseArray\u001b[0m\u001b[1;33m\u001b[0m\u001b[1;33m\u001b[0m\u001b[0m\n\u001b[0;32m    243\u001b[0m \u001b[1;33m\u001b[0m\u001b[0m\n\u001b[1;32m--> 244\u001b[1;33m     \u001b[1;32mraise\u001b[0m \u001b[0mAttributeError\u001b[0m\u001b[1;33m(\u001b[0m\u001b[1;34mf\"module 'pandas' has no attribute '{name}'\"\u001b[0m\u001b[1;33m)\u001b[0m\u001b[1;33m\u001b[0m\u001b[1;33m\u001b[0m\u001b[0m\n\u001b[0m\u001b[0;32m    245\u001b[0m \u001b[1;33m\u001b[0m\u001b[0m\n\u001b[0;32m    246\u001b[0m \u001b[1;33m\u001b[0m\u001b[0m\n",
      "\u001b[1;31mAttributeError\u001b[0m: module 'pandas' has no attribute 'plot'"
     ]
    }
   ],
   "source": [
    "pd.plot.scatter(x=range(3063), y=pubchem_df['Standard Value']"
   ]
  },
  {
   "cell_type": "code",
   "execution_count": null,
   "metadata": {},
   "outputs": [],
   "source": []
  }
 ],
 "metadata": {
  "kernelspec": {
   "display_name": "Python 3.7.13 ('rdkit-env')",
   "language": "python",
   "name": "python3"
  },
  "language_info": {
   "codemirror_mode": {
    "name": "ipython",
    "version": 3
   },
   "file_extension": ".py",
   "mimetype": "text/x-python",
   "name": "python",
   "nbconvert_exporter": "python",
   "pygments_lexer": "ipython3",
   "version": "3.7.13"
  },
  "orig_nbformat": 4,
  "vscode": {
   "interpreter": {
    "hash": "a694807c9b1a745d85aaf44082616ccf97187531b3dfc8c019cc803a2159b822"
   }
  }
 },
 "nbformat": 4,
 "nbformat_minor": 2
}
