{
 "cells": [
  {
   "cell_type": "markdown",
   "metadata": {},
   "source": [
    "# Data exploration"
   ]
  },
  {
   "cell_type": "code",
   "execution_count": 1,
   "metadata": {},
   "outputs": [],
   "source": [
    "import pandas as pd"
   ]
  },
  {
   "cell_type": "code",
   "execution_count": 2,
   "metadata": {},
   "outputs": [],
   "source": [
    "pubchem_db = r'C:\\Users\\pecho\\Documents\\serotonin_receptor_project\\databases\\clean_dbs\\pubchem_reg_human_5ht6.csv'\n",
    "# chembl_db = r'C:\\Users\\pecho\\Documents\\serotonin_receptor_project\\databases\\clean_dbs\\chembl_human_5ht6.csv'"
   ]
  },
  {
   "cell_type": "code",
   "execution_count": 3,
   "metadata": {},
   "outputs": [],
   "source": [
    "pubchem_df = pd.read_csv(pubchem_db, sep='\\t')\n",
    "# chembl_df = pd.read_csv(chembl_db, sep='\\t')"
   ]
  },
  {
   "cell_type": "code",
   "execution_count": 4,
   "metadata": {},
   "outputs": [
    {
     "data": {
      "text/html": [
       "<div>\n",
       "<style scoped>\n",
       "    .dataframe tbody tr th:only-of-type {\n",
       "        vertical-align: middle;\n",
       "    }\n",
       "\n",
       "    .dataframe tbody tr th {\n",
       "        vertical-align: top;\n",
       "    }\n",
       "\n",
       "    .dataframe thead th {\n",
       "        text-align: right;\n",
       "    }\n",
       "</style>\n",
       "<table border=\"1\" class=\"dataframe\">\n",
       "  <thead>\n",
       "    <tr style=\"text-align: right;\">\n",
       "      <th></th>\n",
       "      <th>Unnamed: 0</th>\n",
       "      <th>Standard Type</th>\n",
       "      <th>Standard Value</th>\n",
       "      <th>Smiles</th>\n",
       "      <th>pKi</th>\n",
       "    </tr>\n",
       "  </thead>\n",
       "  <tbody>\n",
       "    <tr>\n",
       "      <th>0</th>\n",
       "      <td>2</td>\n",
       "      <td>Ki</td>\n",
       "      <td>1.0000</td>\n",
       "      <td>C1CCN(C1)C2=NC(=CC(=C2)S(=O)(=O)C3=CC=C(C=C3)N)Br</td>\n",
       "      <td>9.0000</td>\n",
       "    </tr>\n",
       "    <tr>\n",
       "      <th>1</th>\n",
       "      <td>8</td>\n",
       "      <td>Ki</td>\n",
       "      <td>2.2910</td>\n",
       "      <td>CNC1=NC(=CC(=C1)S(=O)(=O)C2=CC=C(C=C2)N)Br</td>\n",
       "      <td>8.6400</td>\n",
       "    </tr>\n",
       "    <tr>\n",
       "      <th>2</th>\n",
       "      <td>9</td>\n",
       "      <td>Ki</td>\n",
       "      <td>0.1148</td>\n",
       "      <td>C1CN(CCN1)C2=NC(=CC(=C2)S(=O)(=O)C3=CC=C(C=C3)...</td>\n",
       "      <td>9.9401</td>\n",
       "    </tr>\n",
       "    <tr>\n",
       "      <th>3</th>\n",
       "      <td>11</td>\n",
       "      <td>Ki</td>\n",
       "      <td>53.7000</td>\n",
       "      <td>C1=CC(=CC=C1N)S(=O)(=O)C2=CC(=NC(=C2)Br)Br</td>\n",
       "      <td>7.2700</td>\n",
       "    </tr>\n",
       "    <tr>\n",
       "      <th>4</th>\n",
       "      <td>13</td>\n",
       "      <td>Ki</td>\n",
       "      <td>54.9500</td>\n",
       "      <td>CNC1=CC(=NC(=N1)NC)NS(=O)(=O)C2=CC=C(C=C2)N.Br.Br</td>\n",
       "      <td>7.2600</td>\n",
       "    </tr>\n",
       "    <tr>\n",
       "      <th>...</th>\n",
       "      <td>...</td>\n",
       "      <td>...</td>\n",
       "      <td>...</td>\n",
       "      <td>...</td>\n",
       "      <td>...</td>\n",
       "    </tr>\n",
       "    <tr>\n",
       "      <th>3058</th>\n",
       "      <td>18349</td>\n",
       "      <td>Ki</td>\n",
       "      <td>102.0000</td>\n",
       "      <td>C1CNCC=C1C2=CN(C3=C2C=CC(=C3)Cl)S(=O)(=O)C4=CC...</td>\n",
       "      <td>6.9914</td>\n",
       "    </tr>\n",
       "    <tr>\n",
       "      <th>3059</th>\n",
       "      <td>18350</td>\n",
       "      <td>Ki</td>\n",
       "      <td>30.0000</td>\n",
       "      <td>COC1=CC2=C(C=C1)N(C=C2C3CCNCC3)S(=O)(=O)C4=CC5...</td>\n",
       "      <td>7.5229</td>\n",
       "    </tr>\n",
       "    <tr>\n",
       "      <th>3060</th>\n",
       "      <td>18351</td>\n",
       "      <td>Ki</td>\n",
       "      <td>14.0000</td>\n",
       "      <td>COC1=CC2=C(C=C1)N(C=C2C3=CCNCC3)S(=O)(=O)C4=CC...</td>\n",
       "      <td>7.8539</td>\n",
       "    </tr>\n",
       "    <tr>\n",
       "      <th>3061</th>\n",
       "      <td>18352</td>\n",
       "      <td>Ki</td>\n",
       "      <td>7.0000</td>\n",
       "      <td>C1CNCC=C1C2=CN(C3=CC=CC=C32)S(=O)(=O)C4=CC5=C(...</td>\n",
       "      <td>8.1549</td>\n",
       "    </tr>\n",
       "    <tr>\n",
       "      <th>3062</th>\n",
       "      <td>18353</td>\n",
       "      <td>Ki</td>\n",
       "      <td>11.0000</td>\n",
       "      <td>C1CNCC=C1C2=CN(C3=C2C=C(C=C3)Cl)S(=O)(=O)C4=CC...</td>\n",
       "      <td>7.9586</td>\n",
       "    </tr>\n",
       "  </tbody>\n",
       "</table>\n",
       "<p>3063 rows × 5 columns</p>\n",
       "</div>"
      ],
      "text/plain": [
       "      Unnamed: 0 Standard Type  Standard Value  \\\n",
       "0              2            Ki          1.0000   \n",
       "1              8            Ki          2.2910   \n",
       "2              9            Ki          0.1148   \n",
       "3             11            Ki         53.7000   \n",
       "4             13            Ki         54.9500   \n",
       "...          ...           ...             ...   \n",
       "3058       18349            Ki        102.0000   \n",
       "3059       18350            Ki         30.0000   \n",
       "3060       18351            Ki         14.0000   \n",
       "3061       18352            Ki          7.0000   \n",
       "3062       18353            Ki         11.0000   \n",
       "\n",
       "                                                 Smiles     pKi  \n",
       "0     C1CCN(C1)C2=NC(=CC(=C2)S(=O)(=O)C3=CC=C(C=C3)N)Br  9.0000  \n",
       "1            CNC1=NC(=CC(=C1)S(=O)(=O)C2=CC=C(C=C2)N)Br  8.6400  \n",
       "2     C1CN(CCN1)C2=NC(=CC(=C2)S(=O)(=O)C3=CC=C(C=C3)...  9.9401  \n",
       "3            C1=CC(=CC=C1N)S(=O)(=O)C2=CC(=NC(=C2)Br)Br  7.2700  \n",
       "4     CNC1=CC(=NC(=N1)NC)NS(=O)(=O)C2=CC=C(C=C2)N.Br.Br  7.2600  \n",
       "...                                                 ...     ...  \n",
       "3058  C1CNCC=C1C2=CN(C3=C2C=CC(=C3)Cl)S(=O)(=O)C4=CC...  6.9914  \n",
       "3059  COC1=CC2=C(C=C1)N(C=C2C3CCNCC3)S(=O)(=O)C4=CC5...  7.5229  \n",
       "3060  COC1=CC2=C(C=C1)N(C=C2C3=CCNCC3)S(=O)(=O)C4=CC...  7.8539  \n",
       "3061  C1CNCC=C1C2=CN(C3=CC=CC=C32)S(=O)(=O)C4=CC5=C(...  8.1549  \n",
       "3062  C1CNCC=C1C2=CN(C3=C2C=C(C=C3)Cl)S(=O)(=O)C4=CC...  7.9586  \n",
       "\n",
       "[3063 rows x 5 columns]"
      ]
     },
     "execution_count": 4,
     "metadata": {},
     "output_type": "execute_result"
    }
   ],
   "source": [
    "pubchem_df"
   ]
  },
  {
   "cell_type": "code",
   "execution_count": 5,
   "metadata": {},
   "outputs": [
    {
     "data": {
      "text/plain": [
       "675.4657842964406"
      ]
     },
     "execution_count": 5,
     "metadata": {},
     "output_type": "execute_result"
    }
   ],
   "source": [
    "pubchem_df['Standard Value'].mean()"
   ]
  },
  {
   "cell_type": "code",
   "execution_count": 6,
   "metadata": {},
   "outputs": [
    {
     "data": {
      "text/plain": [
       "7.444720666013678"
      ]
     },
     "execution_count": 6,
     "metadata": {},
     "output_type": "execute_result"
    }
   ],
   "source": [
    "pubchem_df['pKi'].mean()"
   ]
  },
  {
   "cell_type": "code",
   "execution_count": 9,
   "metadata": {},
   "outputs": [
    {
     "data": {
      "text/plain": [
       "<AxesSubplot:>"
      ]
     },
     "execution_count": 9,
     "metadata": {},
     "output_type": "execute_result"
    },
    {
     "data": {
      "image/png": "[encoded data removed]",
      "text/plain": [
       "<Figure size 432x288 with 1 Axes>"
      ]
     },
     "metadata": {
      "needs_background": "light"
     },
     "output_type": "display_data"
    }
   ],
   "source": [
    "pubchem_df.pKi.hist(bins=10)"
   ]
  },
  {
   "cell_type": "code",
   "execution_count": 13,
   "metadata": {},
   "outputs": [
    {
     "data": {
      "text/plain": [
       "<AxesSubplot:xlabel='pKi', ylabel='Standard Value'>"
      ]
     },
     "execution_count": 13,
     "metadata": {},
     "output_type": "execute_result"
    },
    {
     "data": {
      "image/png": "[encoded data removed]",
      "text/plain": [
       "<Figure size 432x288 with 1 Axes>"
      ]
     },
     "metadata": {
      "needs_background": "light"
     },
     "output_type": "display_data"
    }
   ],
   "source": [
    "pubchem_df.plot.scatter(y='Standard Value', x='pKi')"
   ]
  },
  {
   "cell_type": "code",
   "execution_count": null,
   "metadata": {},
   "outputs": [],
   "source": []
  }
 ],
 "metadata": {
  "kernelspec": {
   "display_name": "Python 3.7.13 ('rdkit-env')",
   "language": "python",
   "name": "python3"
  },
  "language_info": {
   "codemirror_mode": {
    "name": "ipython",
    "version": 3
   },
   "file_extension": ".py",
   "mimetype": "text/x-python",
   "name": "python",
   "nbconvert_exporter": "python",
   "pygments_lexer": "ipython3",
   "version": "3.7.13"
  },
  "orig_nbformat": 4,
  "vscode": {
   "interpreter": {
    "hash": "a694807c9b1a745d85aaf44082616ccf97187531b3dfc8c019cc803a2159b822"
   }
  }
 },
 "nbformat": 4,
 "nbformat_minor": 2
}
