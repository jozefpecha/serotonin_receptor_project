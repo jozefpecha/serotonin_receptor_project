{
 "cells": [
  {
   "cell_type": "markdown",
   "metadata": {},
   "source": [
    "# Data preparation"
   ]
  },
  {
   "cell_type": "code",
   "execution_count": 146,
   "metadata": {},
   "outputs": [],
   "source": [
    "# import necessary packages\n",
    "import pandas as pd\n",
    "import numpy as np"
   ]
  },
  {
   "cell_type": "markdown",
   "metadata": {},
   "source": [
    "## Load dbs"
   ]
  },
  {
   "cell_type": "code",
   "execution_count": 183,
   "metadata": {},
   "outputs": [],
   "source": [
    "pubchem_db = r'C:\\Users\\pecho\\Documents\\serotonin_receptor_project\\databases\\original_dbs\\pubchem_human_5ht6.csv'\n",
    "chembl_db = r'C:\\Users\\pecho\\Documents\\serotonin_receptor_project\\databases\\original_dbs\\chembl_human_5ht6.csv'"
   ]
  },
  {
   "cell_type": "code",
   "execution_count": 184,
   "metadata": {},
   "outputs": [],
   "source": [
    "pubchem_df = pd.read_csv(pubchem_db, sep=',')\n",
    "chembl_df = pd.read_csv(chembl_db, sep=';')"
   ]
  },
  {
   "cell_type": "markdown",
   "metadata": {},
   "source": [
    "## Filter out unnecessary columns"
   ]
  },
  {
   "cell_type": "code",
   "execution_count": 185,
   "metadata": {},
   "outputs": [
    {
     "data": {
      "text/plain": [
       "Index(['baid', 'activity', 'aid', 'sid', 'cid', 'geneid', 'pmid', 'aidtype',\n",
       "       'aidmdate', 'hasdrc', 'rnai', 'protacxn', 'acname', 'acqualifier',\n",
       "       'acvalue', 'aidsrcname', 'aidname', 'cmpdname', 'targetname',\n",
       "       'targeturl', 'ecs', 'repacxn', 'taxids', 'cellids', 'targettaxid'],\n",
       "      dtype='object')"
      ]
     },
     "execution_count": 185,
     "metadata": {},
     "output_type": "execute_result"
    }
   ],
   "source": [
    "pubchem_df.columns"
   ]
  },
  {
   "cell_type": "code",
   "execution_count": 186,
   "metadata": {},
   "outputs": [
    {
     "data": {
      "text/plain": [
       "Index(['Molecule ChEMBL ID', 'Molecule Name', 'Molecule Max Phase',\n",
       "       'Molecular Weight', '#RO5 Violations', 'AlogP', 'Compound Key',\n",
       "       'Smiles', 'Standard Type', 'Standard Relation', 'Standard Value',\n",
       "       'Standard Units', 'pChEMBL Value', 'Data Validity Comment', 'Comment',\n",
       "       'Uo Units', 'Ligand Efficiency BEI', 'Ligand Efficiency LE',\n",
       "       'Ligand Efficiency LLE', 'Ligand Efficiency SEI', 'Potential Duplicate',\n",
       "       'Assay ChEMBL ID', 'Assay Description', 'Assay Type', 'BAO Format ID',\n",
       "       'BAO Label', 'Assay Organism', 'Assay Tissue ChEMBL ID',\n",
       "       'Assay Tissue Name', 'Assay Cell Type', 'Assay Subcellular Fraction',\n",
       "       'Assay Parameters', 'Assay Variant Accession', 'Assay Variant Mutation',\n",
       "       'Target ChEMBL ID', 'Target Name', 'Target Organism', 'Target Type',\n",
       "       'Document ChEMBL ID', 'Source ID', 'Source Description',\n",
       "       'Document Journal', 'Document Year', 'Cell ChEMBL ID', 'Properties'],\n",
       "      dtype='object')"
      ]
     },
     "execution_count": 186,
     "metadata": {},
     "output_type": "execute_result"
    }
   ],
   "source": [
    "chembl_df.columns"
   ]
  },
  {
   "cell_type": "code",
   "execution_count": 187,
   "metadata": {},
   "outputs": [],
   "source": [
    "pubchem_columns = ['sid', 'acname', 'acqualifier', 'acvalue', 'activity']\n",
    "chembl_columns = ['Smiles', 'Standard Type', 'Standard Relation', 'Standard Value', 'Standard Units', 'pChEMBL Value', 'Data Validity Comment']"
   ]
  },
  {
   "cell_type": "code",
   "execution_count": 188,
   "metadata": {},
   "outputs": [],
   "source": [
    "pubchem_df = pubchem_df.drop(columns=[column for column in pubchem_df.columns if column not in pubchem_columns])\n",
    "chembl_df = chembl_df.drop(columns=[column for column in chembl_df.columns if column not in chembl_columns])"
   ]
  },
  {
   "cell_type": "markdown",
   "metadata": {},
   "source": [
    "## Add smiles to pubchem dataset\n",
    "\n",
    "Smiles were obtained through Pubchem Identifier Exchange Service based on SID"
   ]
  },
  {
   "cell_type": "code",
   "execution_count": 189,
   "metadata": {},
   "outputs": [],
   "source": [
    "pubchem_smiles = r'C:\\Users\\pecho\\Documents\\serotonin_receptor_project\\databases\\original_dbs\\pubchem_db_smiles.csv'\n",
    "pubchem_smiles_df = pd.read_csv(pubchem_smiles, sep=\"\\t\")"
   ]
  },
  {
   "cell_type": "code",
   "execution_count": 190,
   "metadata": {},
   "outputs": [],
   "source": [
    "pubchem_df = pd.merge(pubchem_df, pubchem_smiles_df, how='left')"
   ]
  },
  {
   "cell_type": "code",
   "execution_count": 191,
   "metadata": {},
   "outputs": [],
   "source": [
    "pubchem_df.drop_duplicates(subset=['sid'], inplace=True)"
   ]
  },
  {
   "cell_type": "code",
   "execution_count": 192,
   "metadata": {},
   "outputs": [],
   "source": [
    "# renaming columns so that they much ChEMBL dataset column names\n",
    "pubchem_df = pubchem_df.rename(columns= {'acname': 'Standard Type', 'acqualifier': 'Standard Relation', 'acvalue': 'Standard Value'})"
   ]
  },
  {
   "cell_type": "markdown",
   "metadata": {},
   "source": [
    "## Clean pubchem dataset"
   ]
  },
  {
   "cell_type": "markdown",
   "metadata": {},
   "source": [
    "### Select and clean data for classification tasks\n",
    "\n",
    "This dataset also contains molecules that do not have activity (Ki) measured. They inhibition concentrations were too large and they were deemed inactive.\n",
    "This is not a problem for classification as inhibition constant should not be one of the features to allow for prediction based solely on structure and\n",
    "physico-chemical properties (that are easily calculable)."
   ]
  },
  {
   "cell_type": "code",
   "execution_count": 193,
   "metadata": {},
   "outputs": [],
   "source": [
    "pubchem_cl_df = pubchem_df.copy()"
   ]
  },
  {
   "cell_type": "code",
   "execution_count": 194,
   "metadata": {},
   "outputs": [],
   "source": [
    "# Select rows with only clearly annotated activity state\n",
    "pubchem_cl_df.query('activity == \"Active\" or activity == \"Inactive\"', inplace=True)"
   ]
  },
  {
   "cell_type": "code",
   "execution_count": 195,
   "metadata": {},
   "outputs": [
    {
     "data": {
      "text/html": [
       "<div>\n",
       "<style scoped>\n",
       "    .dataframe tbody tr th:only-of-type {\n",
       "        vertical-align: middle;\n",
       "    }\n",
       "\n",
       "    .dataframe tbody tr th {\n",
       "        vertical-align: top;\n",
       "    }\n",
       "\n",
       "    .dataframe thead th {\n",
       "        text-align: right;\n",
       "    }\n",
       "</style>\n",
       "<table border=\"1\" class=\"dataframe\">\n",
       "  <thead>\n",
       "    <tr style=\"text-align: right;\">\n",
       "      <th></th>\n",
       "      <th>activity</th>\n",
       "      <th>sid</th>\n",
       "      <th>Standard Type</th>\n",
       "      <th>Standard Relation</th>\n",
       "      <th>Standard Value</th>\n",
       "      <th>Smiles</th>\n",
       "    </tr>\n",
       "  </thead>\n",
       "  <tbody>\n",
       "    <tr>\n",
       "      <th>0</th>\n",
       "      <td>Active</td>\n",
       "      <td>103430412</td>\n",
       "      <td>IC50</td>\n",
       "      <td>=</td>\n",
       "      <td>0.000700</td>\n",
       "      <td>CN(C)CCCC1=C(NC2=CC=CC=C21)C3=CC(=CC=C3)Br</td>\n",
       "    </tr>\n",
       "    <tr>\n",
       "      <th>2</th>\n",
       "      <td>Active</td>\n",
       "      <td>103192227</td>\n",
       "      <td>Ki</td>\n",
       "      <td>=</td>\n",
       "      <td>0.001000</td>\n",
       "      <td>C1CCN(C1)C2=NC(=CC(=C2)S(=O)(=O)C3=CC=C(C=C3)N)Br</td>\n",
       "    </tr>\n",
       "    <tr>\n",
       "      <th>8</th>\n",
       "      <td>Active</td>\n",
       "      <td>103192262</td>\n",
       "      <td>Ki</td>\n",
       "      <td>=</td>\n",
       "      <td>0.002291</td>\n",
       "      <td>CNC1=NC(=CC(=C1)S(=O)(=O)C2=CC=C(C=C2)N)Br</td>\n",
       "    </tr>\n",
       "    <tr>\n",
       "      <th>9</th>\n",
       "      <td>Active</td>\n",
       "      <td>103192311</td>\n",
       "      <td>Ki</td>\n",
       "      <td>=</td>\n",
       "      <td>0.000115</td>\n",
       "      <td>C1CN(CCN1)C2=NC(=CC(=C2)S(=O)(=O)C3=CC=C(C=C3)...</td>\n",
       "    </tr>\n",
       "    <tr>\n",
       "      <th>11</th>\n",
       "      <td>Active</td>\n",
       "      <td>103192312</td>\n",
       "      <td>Ki</td>\n",
       "      <td>=</td>\n",
       "      <td>0.053700</td>\n",
       "      <td>C1=CC(=CC=C1N)S(=O)(=O)C2=CC(=NC(=C2)Br)Br</td>\n",
       "    </tr>\n",
       "    <tr>\n",
       "      <th>...</th>\n",
       "      <td>...</td>\n",
       "      <td>...</td>\n",
       "      <td>...</td>\n",
       "      <td>...</td>\n",
       "      <td>...</td>\n",
       "      <td>...</td>\n",
       "    </tr>\n",
       "    <tr>\n",
       "      <th>26676</th>\n",
       "      <td>Inactive</td>\n",
       "      <td>461558376</td>\n",
       "      <td>NaN</td>\n",
       "      <td>NaN</td>\n",
       "      <td>NaN</td>\n",
       "      <td>CC1=CC=C(C=C1)S(=O)(=O)NCCN2CCC(CC2)CCC(=O)C3=...</td>\n",
       "    </tr>\n",
       "    <tr>\n",
       "      <th>26682</th>\n",
       "      <td>Inactive</td>\n",
       "      <td>461549557</td>\n",
       "      <td>NaN</td>\n",
       "      <td>NaN</td>\n",
       "      <td>NaN</td>\n",
       "      <td>COC1=CC(=C(C=C1)S(=O)(=O)NCCN2CCC(CC2)CCC(=O)C...</td>\n",
       "    </tr>\n",
       "    <tr>\n",
       "      <th>26684</th>\n",
       "      <td>Inactive</td>\n",
       "      <td>461563589</td>\n",
       "      <td>NaN</td>\n",
       "      <td>NaN</td>\n",
       "      <td>NaN</td>\n",
       "      <td>CC(=O)N1CCC(CC1)[C@](C2=CC=CC=C2)(C3=CC4=C(C=C...</td>\n",
       "    </tr>\n",
       "    <tr>\n",
       "      <th>26692</th>\n",
       "      <td>Inactive</td>\n",
       "      <td>461517760</td>\n",
       "      <td>NaN</td>\n",
       "      <td>NaN</td>\n",
       "      <td>NaN</td>\n",
       "      <td>COC1=CC=C(C=C1)S(=O)(=O)N2CCC(CC2)CCC(=O)C3=CC...</td>\n",
       "    </tr>\n",
       "    <tr>\n",
       "      <th>26703</th>\n",
       "      <td>Inactive</td>\n",
       "      <td>461544283</td>\n",
       "      <td>NaN</td>\n",
       "      <td>NaN</td>\n",
       "      <td>NaN</td>\n",
       "      <td>C1CN(C2=CC=CC(=C21)C(=O)NCCO)C3=NC=NC(=C3)CC4=...</td>\n",
       "    </tr>\n",
       "  </tbody>\n",
       "</table>\n",
       "<p>4240 rows × 6 columns</p>\n",
       "</div>"
      ],
      "text/plain": [
       "       activity        sid Standard Type Standard Relation  Standard Value  \\\n",
       "0        Active  103430412          IC50                 =        0.000700   \n",
       "2        Active  103192227            Ki                 =        0.001000   \n",
       "8        Active  103192262            Ki                 =        0.002291   \n",
       "9        Active  103192311            Ki                 =        0.000115   \n",
       "11       Active  103192312            Ki                 =        0.053700   \n",
       "...         ...        ...           ...               ...             ...   \n",
       "26676  Inactive  461558376           NaN               NaN             NaN   \n",
       "26682  Inactive  461549557           NaN               NaN             NaN   \n",
       "26684  Inactive  461563589           NaN               NaN             NaN   \n",
       "26692  Inactive  461517760           NaN               NaN             NaN   \n",
       "26703  Inactive  461544283           NaN               NaN             NaN   \n",
       "\n",
       "                                                  Smiles  \n",
       "0             CN(C)CCCC1=C(NC2=CC=CC=C21)C3=CC(=CC=C3)Br  \n",
       "2      C1CCN(C1)C2=NC(=CC(=C2)S(=O)(=O)C3=CC=C(C=C3)N)Br  \n",
       "8             CNC1=NC(=CC(=C1)S(=O)(=O)C2=CC=C(C=C2)N)Br  \n",
       "9      C1CN(CCN1)C2=NC(=CC(=C2)S(=O)(=O)C3=CC=C(C=C3)...  \n",
       "11            C1=CC(=CC=C1N)S(=O)(=O)C2=CC(=NC(=C2)Br)Br  \n",
       "...                                                  ...  \n",
       "26676  CC1=CC=C(C=C1)S(=O)(=O)NCCN2CCC(CC2)CCC(=O)C3=...  \n",
       "26682  COC1=CC(=C(C=C1)S(=O)(=O)NCCN2CCC(CC2)CCC(=O)C...  \n",
       "26684  CC(=O)N1CCC(CC1)[C@](C2=CC=CC=C2)(C3=CC4=C(C=C...  \n",
       "26692  COC1=CC=C(C=C1)S(=O)(=O)N2CCC(CC2)CCC(=O)C3=CC...  \n",
       "26703  C1CN(C2=CC=CC(=C21)C(=O)NCCO)C3=NC=NC(=C3)CC4=...  \n",
       "\n",
       "[4240 rows x 6 columns]"
      ]
     },
     "execution_count": 195,
     "metadata": {},
     "output_type": "execute_result"
    }
   ],
   "source": [
    "pubchem_cl_df"
   ]
  },
  {
   "cell_type": "code",
   "execution_count": 196,
   "metadata": {},
   "outputs": [
    {
     "data": {
      "text/plain": [
       "{'Activity', 'EC50', 'IC50', 'Inhibition', 'Kb', 'Kbapp', 'Kd', 'Ki', nan}"
      ]
     },
     "execution_count": 196,
     "metadata": {},
     "output_type": "execute_result"
    }
   ],
   "source": [
    "# Only Ki and nan will be selected\n",
    "set(pubchem_cl_df['Standard Type'].values)"
   ]
  },
  {
   "cell_type": "code",
   "execution_count": 197,
   "metadata": {},
   "outputs": [],
   "source": [
    "# First line selects only active or inactive ligands\n",
    "# Second line selects rows with specific activity value or no value for inactive ligands\n",
    "pubchem_cl_df.query('`Standard Type` == \"Ki\" or `Standard Type` != `Standard Type`', inplace=True)\n",
    "pubchem_cl_df.query('`Standard Relation` == \"=\" or `Standard Relation` != `Standard Relation`', inplace=True)"
   ]
  },
  {
   "cell_type": "code",
   "execution_count": 198,
   "metadata": {},
   "outputs": [
    {
     "data": {
      "text/html": [
       "<div>\n",
       "<style scoped>\n",
       "    .dataframe tbody tr th:only-of-type {\n",
       "        vertical-align: middle;\n",
       "    }\n",
       "\n",
       "    .dataframe tbody tr th {\n",
       "        vertical-align: top;\n",
       "    }\n",
       "\n",
       "    .dataframe thead th {\n",
       "        text-align: right;\n",
       "    }\n",
       "</style>\n",
       "<table border=\"1\" class=\"dataframe\">\n",
       "  <thead>\n",
       "    <tr style=\"text-align: right;\">\n",
       "      <th></th>\n",
       "      <th>activity</th>\n",
       "      <th>sid</th>\n",
       "      <th>Standard Type</th>\n",
       "      <th>Standard Relation</th>\n",
       "      <th>Standard Value</th>\n",
       "      <th>Smiles</th>\n",
       "    </tr>\n",
       "  </thead>\n",
       "  <tbody>\n",
       "    <tr>\n",
       "      <th>2</th>\n",
       "      <td>Active</td>\n",
       "      <td>103192227</td>\n",
       "      <td>Ki</td>\n",
       "      <td>=</td>\n",
       "      <td>0.001000</td>\n",
       "      <td>C1CCN(C1)C2=NC(=CC(=C2)S(=O)(=O)C3=CC=C(C=C3)N)Br</td>\n",
       "    </tr>\n",
       "    <tr>\n",
       "      <th>8</th>\n",
       "      <td>Active</td>\n",
       "      <td>103192262</td>\n",
       "      <td>Ki</td>\n",
       "      <td>=</td>\n",
       "      <td>0.002291</td>\n",
       "      <td>CNC1=NC(=CC(=C1)S(=O)(=O)C2=CC=C(C=C2)N)Br</td>\n",
       "    </tr>\n",
       "    <tr>\n",
       "      <th>9</th>\n",
       "      <td>Active</td>\n",
       "      <td>103192311</td>\n",
       "      <td>Ki</td>\n",
       "      <td>=</td>\n",
       "      <td>0.000115</td>\n",
       "      <td>C1CN(CCN1)C2=NC(=CC(=C2)S(=O)(=O)C3=CC=C(C=C3)...</td>\n",
       "    </tr>\n",
       "    <tr>\n",
       "      <th>11</th>\n",
       "      <td>Active</td>\n",
       "      <td>103192312</td>\n",
       "      <td>Ki</td>\n",
       "      <td>=</td>\n",
       "      <td>0.053700</td>\n",
       "      <td>C1=CC(=CC=C1N)S(=O)(=O)C2=CC(=NC(=C2)Br)Br</td>\n",
       "    </tr>\n",
       "    <tr>\n",
       "      <th>13</th>\n",
       "      <td>Active</td>\n",
       "      <td>103670002</td>\n",
       "      <td>Ki</td>\n",
       "      <td>=</td>\n",
       "      <td>0.054950</td>\n",
       "      <td>CNC1=CC(=NC(=N1)NC)NS(=O)(=O)C2=CC=C(C=C2)N.Br.Br</td>\n",
       "    </tr>\n",
       "    <tr>\n",
       "      <th>...</th>\n",
       "      <td>...</td>\n",
       "      <td>...</td>\n",
       "      <td>...</td>\n",
       "      <td>...</td>\n",
       "      <td>...</td>\n",
       "      <td>...</td>\n",
       "    </tr>\n",
       "    <tr>\n",
       "      <th>26676</th>\n",
       "      <td>Inactive</td>\n",
       "      <td>461558376</td>\n",
       "      <td>NaN</td>\n",
       "      <td>NaN</td>\n",
       "      <td>NaN</td>\n",
       "      <td>CC1=CC=C(C=C1)S(=O)(=O)NCCN2CCC(CC2)CCC(=O)C3=...</td>\n",
       "    </tr>\n",
       "    <tr>\n",
       "      <th>26682</th>\n",
       "      <td>Inactive</td>\n",
       "      <td>461549557</td>\n",
       "      <td>NaN</td>\n",
       "      <td>NaN</td>\n",
       "      <td>NaN</td>\n",
       "      <td>COC1=CC(=C(C=C1)S(=O)(=O)NCCN2CCC(CC2)CCC(=O)C...</td>\n",
       "    </tr>\n",
       "    <tr>\n",
       "      <th>26684</th>\n",
       "      <td>Inactive</td>\n",
       "      <td>461563589</td>\n",
       "      <td>NaN</td>\n",
       "      <td>NaN</td>\n",
       "      <td>NaN</td>\n",
       "      <td>CC(=O)N1CCC(CC1)[C@](C2=CC=CC=C2)(C3=CC4=C(C=C...</td>\n",
       "    </tr>\n",
       "    <tr>\n",
       "      <th>26692</th>\n",
       "      <td>Inactive</td>\n",
       "      <td>461517760</td>\n",
       "      <td>NaN</td>\n",
       "      <td>NaN</td>\n",
       "      <td>NaN</td>\n",
       "      <td>COC1=CC=C(C=C1)S(=O)(=O)N2CCC(CC2)CCC(=O)C3=CC...</td>\n",
       "    </tr>\n",
       "    <tr>\n",
       "      <th>26703</th>\n",
       "      <td>Inactive</td>\n",
       "      <td>461544283</td>\n",
       "      <td>NaN</td>\n",
       "      <td>NaN</td>\n",
       "      <td>NaN</td>\n",
       "      <td>C1CN(C2=CC=CC(=C21)C(=O)NCCO)C3=NC=NC(=C3)CC4=...</td>\n",
       "    </tr>\n",
       "  </tbody>\n",
       "</table>\n",
       "<p>3211 rows × 6 columns</p>\n",
       "</div>"
      ],
      "text/plain": [
       "       activity        sid Standard Type Standard Relation  Standard Value  \\\n",
       "2        Active  103192227            Ki                 =        0.001000   \n",
       "8        Active  103192262            Ki                 =        0.002291   \n",
       "9        Active  103192311            Ki                 =        0.000115   \n",
       "11       Active  103192312            Ki                 =        0.053700   \n",
       "13       Active  103670002            Ki                 =        0.054950   \n",
       "...         ...        ...           ...               ...             ...   \n",
       "26676  Inactive  461558376           NaN               NaN             NaN   \n",
       "26682  Inactive  461549557           NaN               NaN             NaN   \n",
       "26684  Inactive  461563589           NaN               NaN             NaN   \n",
       "26692  Inactive  461517760           NaN               NaN             NaN   \n",
       "26703  Inactive  461544283           NaN               NaN             NaN   \n",
       "\n",
       "                                                  Smiles  \n",
       "2      C1CCN(C1)C2=NC(=CC(=C2)S(=O)(=O)C3=CC=C(C=C3)N)Br  \n",
       "8             CNC1=NC(=CC(=C1)S(=O)(=O)C2=CC=C(C=C2)N)Br  \n",
       "9      C1CN(CCN1)C2=NC(=CC(=C2)S(=O)(=O)C3=CC=C(C=C3)...  \n",
       "11            C1=CC(=CC=C1N)S(=O)(=O)C2=CC(=NC(=C2)Br)Br  \n",
       "13     CNC1=CC(=NC(=N1)NC)NS(=O)(=O)C2=CC=C(C=C2)N.Br.Br  \n",
       "...                                                  ...  \n",
       "26676  CC1=CC=C(C=C1)S(=O)(=O)NCCN2CCC(CC2)CCC(=O)C3=...  \n",
       "26682  COC1=CC(=C(C=C1)S(=O)(=O)NCCN2CCC(CC2)CCC(=O)C...  \n",
       "26684  CC(=O)N1CCC(CC1)[C@](C2=CC=CC=C2)(C3=CC4=C(C=C...  \n",
       "26692  COC1=CC=C(C=C1)S(=O)(=O)N2CCC(CC2)CCC(=O)C3=CC...  \n",
       "26703  C1CN(C2=CC=CC(=C21)C(=O)NCCO)C3=NC=NC(=C3)CC4=...  \n",
       "\n",
       "[3211 rows x 6 columns]"
      ]
     },
     "execution_count": 198,
     "metadata": {},
     "output_type": "execute_result"
    }
   ],
   "source": [
    "pubchem_cl_df"
   ]
  },
  {
   "cell_type": "code",
   "execution_count": 199,
   "metadata": {},
   "outputs": [],
   "source": [
    "# Create new column to assign activity\n",
    "conditions = [pubchem_cl_df['Standard Value'] <= 10, pubchem_cl_df['Standard Value'] > 10, pubchem_cl_df['Standard Value'].isnull()]\n",
    "values = [1, 0, 0]\n",
    "pubchem_cl_df['Standard Activity'] = np.select(conditions, values)"
   ]
  },
  {
   "cell_type": "code",
   "execution_count": 200,
   "metadata": {},
   "outputs": [],
   "source": [
    "pubchem_cl_df.reset_index(inplace=True, drop=True)\n",
    "pubchem_cl_df = pubchem_cl_df.drop(columns=['activity', 'sid', 'Standard Type', 'Standard Relation'])\n",
    "pubchem_cl_df['Standard Value'] = pubchem_cl_df['Standard Value'].multiply(1000)\n",
    "pubchem_cl_df = pubchem_cl_df.round(4)"
   ]
  },
  {
   "cell_type": "code",
   "execution_count": 201,
   "metadata": {},
   "outputs": [
    {
     "data": {
      "text/html": [
       "<div>\n",
       "<style scoped>\n",
       "    .dataframe tbody tr th:only-of-type {\n",
       "        vertical-align: middle;\n",
       "    }\n",
       "\n",
       "    .dataframe tbody tr th {\n",
       "        vertical-align: top;\n",
       "    }\n",
       "\n",
       "    .dataframe thead th {\n",
       "        text-align: right;\n",
       "    }\n",
       "</style>\n",
       "<table border=\"1\" class=\"dataframe\">\n",
       "  <thead>\n",
       "    <tr style=\"text-align: right;\">\n",
       "      <th></th>\n",
       "      <th>Standard Value</th>\n",
       "      <th>Smiles</th>\n",
       "      <th>Standard Activity</th>\n",
       "    </tr>\n",
       "  </thead>\n",
       "  <tbody>\n",
       "    <tr>\n",
       "      <th>0</th>\n",
       "      <td>1.0000</td>\n",
       "      <td>C1CCN(C1)C2=NC(=CC(=C2)S(=O)(=O)C3=CC=C(C=C3)N)Br</td>\n",
       "      <td>1</td>\n",
       "    </tr>\n",
       "    <tr>\n",
       "      <th>1</th>\n",
       "      <td>2.2910</td>\n",
       "      <td>CNC1=NC(=CC(=C1)S(=O)(=O)C2=CC=C(C=C2)N)Br</td>\n",
       "      <td>1</td>\n",
       "    </tr>\n",
       "    <tr>\n",
       "      <th>2</th>\n",
       "      <td>0.1148</td>\n",
       "      <td>C1CN(CCN1)C2=NC(=CC(=C2)S(=O)(=O)C3=CC=C(C=C3)...</td>\n",
       "      <td>1</td>\n",
       "    </tr>\n",
       "    <tr>\n",
       "      <th>3</th>\n",
       "      <td>53.7000</td>\n",
       "      <td>C1=CC(=CC=C1N)S(=O)(=O)C2=CC(=NC(=C2)Br)Br</td>\n",
       "      <td>1</td>\n",
       "    </tr>\n",
       "    <tr>\n",
       "      <th>4</th>\n",
       "      <td>54.9500</td>\n",
       "      <td>CNC1=CC(=NC(=N1)NC)NS(=O)(=O)C2=CC=C(C=C2)N.Br.Br</td>\n",
       "      <td>1</td>\n",
       "    </tr>\n",
       "    <tr>\n",
       "      <th>...</th>\n",
       "      <td>...</td>\n",
       "      <td>...</td>\n",
       "      <td>...</td>\n",
       "    </tr>\n",
       "    <tr>\n",
       "      <th>3206</th>\n",
       "      <td>NaN</td>\n",
       "      <td>CC1=CC=C(C=C1)S(=O)(=O)NCCN2CCC(CC2)CCC(=O)C3=...</td>\n",
       "      <td>0</td>\n",
       "    </tr>\n",
       "    <tr>\n",
       "      <th>3207</th>\n",
       "      <td>NaN</td>\n",
       "      <td>COC1=CC(=C(C=C1)S(=O)(=O)NCCN2CCC(CC2)CCC(=O)C...</td>\n",
       "      <td>0</td>\n",
       "    </tr>\n",
       "    <tr>\n",
       "      <th>3208</th>\n",
       "      <td>NaN</td>\n",
       "      <td>CC(=O)N1CCC(CC1)[C@](C2=CC=CC=C2)(C3=CC4=C(C=C...</td>\n",
       "      <td>0</td>\n",
       "    </tr>\n",
       "    <tr>\n",
       "      <th>3209</th>\n",
       "      <td>NaN</td>\n",
       "      <td>COC1=CC=C(C=C1)S(=O)(=O)N2CCC(CC2)CCC(=O)C3=CC...</td>\n",
       "      <td>0</td>\n",
       "    </tr>\n",
       "    <tr>\n",
       "      <th>3210</th>\n",
       "      <td>NaN</td>\n",
       "      <td>C1CN(C2=CC=CC(=C21)C(=O)NCCO)C3=NC=NC(=C3)CC4=...</td>\n",
       "      <td>0</td>\n",
       "    </tr>\n",
       "  </tbody>\n",
       "</table>\n",
       "<p>3211 rows × 3 columns</p>\n",
       "</div>"
      ],
      "text/plain": [
       "      Standard Value                                             Smiles  \\\n",
       "0             1.0000  C1CCN(C1)C2=NC(=CC(=C2)S(=O)(=O)C3=CC=C(C=C3)N)Br   \n",
       "1             2.2910         CNC1=NC(=CC(=C1)S(=O)(=O)C2=CC=C(C=C2)N)Br   \n",
       "2             0.1148  C1CN(CCN1)C2=NC(=CC(=C2)S(=O)(=O)C3=CC=C(C=C3)...   \n",
       "3            53.7000         C1=CC(=CC=C1N)S(=O)(=O)C2=CC(=NC(=C2)Br)Br   \n",
       "4            54.9500  CNC1=CC(=NC(=N1)NC)NS(=O)(=O)C2=CC=C(C=C2)N.Br.Br   \n",
       "...              ...                                                ...   \n",
       "3206             NaN  CC1=CC=C(C=C1)S(=O)(=O)NCCN2CCC(CC2)CCC(=O)C3=...   \n",
       "3207             NaN  COC1=CC(=C(C=C1)S(=O)(=O)NCCN2CCC(CC2)CCC(=O)C...   \n",
       "3208             NaN  CC(=O)N1CCC(CC1)[C@](C2=CC=CC=C2)(C3=CC4=C(C=C...   \n",
       "3209             NaN  COC1=CC=C(C=C1)S(=O)(=O)N2CCC(CC2)CCC(=O)C3=CC...   \n",
       "3210             NaN  C1CN(C2=CC=CC(=C21)C(=O)NCCO)C3=NC=NC(=C3)CC4=...   \n",
       "\n",
       "      Standard Activity  \n",
       "0                     1  \n",
       "1                     1  \n",
       "2                     1  \n",
       "3                     1  \n",
       "4                     1  \n",
       "...                 ...  \n",
       "3206                  0  \n",
       "3207                  0  \n",
       "3208                  0  \n",
       "3209                  0  \n",
       "3210                  0  \n",
       "\n",
       "[3211 rows x 3 columns]"
      ]
     },
     "execution_count": 201,
     "metadata": {},
     "output_type": "execute_result"
    }
   ],
   "source": [
    "pubchem_cl_df"
   ]
  },
  {
   "cell_type": "code",
   "execution_count": 202,
   "metadata": {},
   "outputs": [],
   "source": [
    "# Save pubchem classification dataset\n",
    "pubchem_cl_df.to_csv(r'C:\\Users\\pecho\\Documents\\serotonin_receptor_project\\databases\\clean_dbs\\pubchem_cl_human_5ht6.csv', sep='\\t')"
   ]
  },
  {
   "cell_type": "markdown",
   "metadata": {},
   "source": [
    "### Select and clean data for regression tasks"
   ]
  },
  {
   "cell_type": "code",
   "execution_count": 203,
   "metadata": {},
   "outputs": [],
   "source": [
    "pubchem_df = pubchem_df.drop(pubchem_df[pubchem_df['Standard Type'] != 'Ki'].index)\n",
    "pubchem_df = pubchem_df.drop(pubchem_df[pubchem_df['Standard Relation'] != '='].index)\n",
    "pubchem_df = pubchem_df.drop(pubchem_df[pubchem_df['activity'] != 'Active'].index)\n",
    "pubchem_df = pubchem_df.drop(columns=['activity', 'Standard Relation', 'sid'])\n",
    "pubchem_df.dropna(inplace=True)"
   ]
  },
  {
   "cell_type": "code",
   "execution_count": 204,
   "metadata": {},
   "outputs": [],
   "source": [
    "# Convert mikro mol Ki to nmol\n",
    "pubchem_df['Standard Value'] = pubchem_df['Standard Value'].multiply(1000)"
   ]
  },
  {
   "cell_type": "code",
   "execution_count": 205,
   "metadata": {},
   "outputs": [],
   "source": [
    "# Create new pKi column by calculating -log(Ki)\n",
    "pubchem_df['pKi'] = -np.log10(pubchem_df['Standard Value'] / (10 ** 9))\n",
    "pubchem_df = pubchem_df.round(4)"
   ]
  },
  {
   "cell_type": "code",
   "execution_count": 206,
   "metadata": {},
   "outputs": [],
   "source": [
    "pubchem_df.to_csv(r'C:\\Users\\pecho\\Documents\\serotonin_receptor_project\\databases\\clean_dbs\\pubchem_reg_human_5ht6.csv', sep='\\t')"
   ]
  },
  {
   "cell_type": "markdown",
   "metadata": {},
   "source": [
    "## Clean chembl dataset"
   ]
  },
  {
   "cell_type": "code",
   "execution_count": 252,
   "metadata": {},
   "outputs": [],
   "source": [
    "chembl_df = chembl_df.drop(chembl_df[chembl_df['Standard Type'] != 'Ki'].index)\n",
    "chembl_df = chembl_df.drop(chembl_df[chembl_df['Standard Relation'] != \"'='\"].index)\n",
    "chembl_df.drop_duplicates(subset=['Smiles'], inplace=True)\n",
    "chembl_df.dropna(inplace=True)"
   ]
  },
  {
   "cell_type": "code",
   "execution_count": 253,
   "metadata": {},
   "outputs": [],
   "source": [
    "chembl_df = chembl_df.drop(columns=['Standard Relation', 'Standard Units'])"
   ]
  },
  {
   "cell_type": "code",
   "execution_count": 254,
   "metadata": {},
   "outputs": [
    {
     "data": {
      "text/html": [
       "<div>\n",
       "<style scoped>\n",
       "    .dataframe tbody tr th:only-of-type {\n",
       "        vertical-align: middle;\n",
       "    }\n",
       "\n",
       "    .dataframe tbody tr th {\n",
       "        vertical-align: top;\n",
       "    }\n",
       "\n",
       "    .dataframe thead th {\n",
       "        text-align: right;\n",
       "    }\n",
       "</style>\n",
       "<table border=\"1\" class=\"dataframe\">\n",
       "  <thead>\n",
       "    <tr style=\"text-align: right;\">\n",
       "      <th></th>\n",
       "      <th>Smiles</th>\n",
       "      <th>Standard Type</th>\n",
       "      <th>Standard Value</th>\n",
       "      <th>pChEMBL Value</th>\n",
       "    </tr>\n",
       "  </thead>\n",
       "  <tbody>\n",
       "    <tr>\n",
       "      <th>0</th>\n",
       "      <td>CC(C)c1ccc(S(=O)(=O)n2cc(N3CCN(C)CC3)c3ccccc32...</td>\n",
       "      <td>Ki</td>\n",
       "      <td>3.400</td>\n",
       "      <td>8.47</td>\n",
       "    </tr>\n",
       "    <tr>\n",
       "      <th>1</th>\n",
       "      <td>COc1ccc(Cl)cc1NS(=O)(=O)c1ccc(OC)c(N2CCNCC2)c1</td>\n",
       "      <td>Ki</td>\n",
       "      <td>1.259</td>\n",
       "      <td>8.90</td>\n",
       "    </tr>\n",
       "    <tr>\n",
       "      <th>2</th>\n",
       "      <td>CNc1cc(S(=O)(=O)Nc2ccc(N)cc2)cc(Br)n1</td>\n",
       "      <td>Ki</td>\n",
       "      <td>42.660</td>\n",
       "      <td>7.37</td>\n",
       "    </tr>\n",
       "    <tr>\n",
       "      <th>4</th>\n",
       "      <td>CC([Se]c1ccccc1)c1nc(N)nc(N2CCN(C)CC2)n1</td>\n",
       "      <td>Ki</td>\n",
       "      <td>111.000</td>\n",
       "      <td>6.96</td>\n",
       "    </tr>\n",
       "    <tr>\n",
       "      <th>6</th>\n",
       "      <td>CN1CCN(c2nc(N)nc(CSc3ccccc3)n2)CC1</td>\n",
       "      <td>Ki</td>\n",
       "      <td>26.000</td>\n",
       "      <td>7.58</td>\n",
       "    </tr>\n",
       "    <tr>\n",
       "      <th>...</th>\n",
       "      <td>...</td>\n",
       "      <td>...</td>\n",
       "      <td>...</td>\n",
       "      <td>...</td>\n",
       "    </tr>\n",
       "    <tr>\n",
       "      <th>5193</th>\n",
       "      <td>COc1ccc(Cc2nc(N3CCNCC3)nc3cccnc23)c(OC)c1</td>\n",
       "      <td>Ki</td>\n",
       "      <td>58.000</td>\n",
       "      <td>7.24</td>\n",
       "    </tr>\n",
       "    <tr>\n",
       "      <th>5201</th>\n",
       "      <td>O=C1Cc2cc(CCN3CCN(c4nsc5ccccc45)CC3)c(Cl)cc2N1</td>\n",
       "      <td>Ki</td>\n",
       "      <td>20.000</td>\n",
       "      <td>7.70</td>\n",
       "    </tr>\n",
       "    <tr>\n",
       "      <th>5202</th>\n",
       "      <td>O=S(=O)(c1cccc2ncccc12)N1CCCCC[C@H]1CCN1CCN(c2...</td>\n",
       "      <td>Ki</td>\n",
       "      <td>176.000</td>\n",
       "      <td>6.75</td>\n",
       "    </tr>\n",
       "    <tr>\n",
       "      <th>5203</th>\n",
       "      <td>O=S(=O)(c1cncc2ccccc12)N1CC[C@@H]1CCN1CCN(c2cc...</td>\n",
       "      <td>Ki</td>\n",
       "      <td>104.000</td>\n",
       "      <td>6.98</td>\n",
       "    </tr>\n",
       "    <tr>\n",
       "      <th>5204</th>\n",
       "      <td>O=S(=O)(c1cncc2ccccc12)N1CCC[C@H]1CCN1CCN(c2ns...</td>\n",
       "      <td>Ki</td>\n",
       "      <td>313.000</td>\n",
       "      <td>6.50</td>\n",
       "    </tr>\n",
       "  </tbody>\n",
       "</table>\n",
       "<p>3994 rows × 4 columns</p>\n",
       "</div>"
      ],
      "text/plain": [
       "                                                 Smiles Standard Type  \\\n",
       "0     CC(C)c1ccc(S(=O)(=O)n2cc(N3CCN(C)CC3)c3ccccc32...            Ki   \n",
       "1        COc1ccc(Cl)cc1NS(=O)(=O)c1ccc(OC)c(N2CCNCC2)c1            Ki   \n",
       "2                 CNc1cc(S(=O)(=O)Nc2ccc(N)cc2)cc(Br)n1            Ki   \n",
       "4              CC([Se]c1ccccc1)c1nc(N)nc(N2CCN(C)CC2)n1            Ki   \n",
       "6                    CN1CCN(c2nc(N)nc(CSc3ccccc3)n2)CC1            Ki   \n",
       "...                                                 ...           ...   \n",
       "5193          COc1ccc(Cc2nc(N3CCNCC3)nc3cccnc23)c(OC)c1            Ki   \n",
       "5201     O=C1Cc2cc(CCN3CCN(c4nsc5ccccc45)CC3)c(Cl)cc2N1            Ki   \n",
       "5202  O=S(=O)(c1cccc2ncccc12)N1CCCCC[C@H]1CCN1CCN(c2...            Ki   \n",
       "5203  O=S(=O)(c1cncc2ccccc12)N1CC[C@@H]1CCN1CCN(c2cc...            Ki   \n",
       "5204  O=S(=O)(c1cncc2ccccc12)N1CCC[C@H]1CCN1CCN(c2ns...            Ki   \n",
       "\n",
       "      Standard Value  pChEMBL Value  \n",
       "0              3.400           8.47  \n",
       "1              1.259           8.90  \n",
       "2             42.660           7.37  \n",
       "4            111.000           6.96  \n",
       "6             26.000           7.58  \n",
       "...              ...            ...  \n",
       "5193          58.000           7.24  \n",
       "5201          20.000           7.70  \n",
       "5202         176.000           6.75  \n",
       "5203         104.000           6.98  \n",
       "5204         313.000           6.50  \n",
       "\n",
       "[3994 rows x 4 columns]"
      ]
     },
     "execution_count": 254,
     "metadata": {},
     "output_type": "execute_result"
    }
   ],
   "source": [
    "chembl_df"
   ]
  },
  {
   "cell_type": "code",
   "execution_count": 266,
   "metadata": {},
   "outputs": [],
   "source": [
    "chembl_df.to_csv(r'C:\\Users\\pecho\\Documents\\serotonin_receptor_project\\databases\\clean_dbs\\chembl_human_5ht6.csv', sep='\\t', index=False)"
   ]
  },
  {
   "cell_type": "markdown",
   "metadata": {},
   "source": [
    "## Concatenate the two dataframes"
   ]
  },
  {
   "cell_type": "code",
   "execution_count": 257,
   "metadata": {},
   "outputs": [],
   "source": [
    "dataframes = [pubchem_df, chembl_df]\n",
    "concat_df = pd.concat(dataframes)"
   ]
  },
  {
   "cell_type": "code",
   "execution_count": 258,
   "metadata": {},
   "outputs": [
    {
     "data": {
      "text/html": [
       "<div>\n",
       "<style scoped>\n",
       "    .dataframe tbody tr th:only-of-type {\n",
       "        vertical-align: middle;\n",
       "    }\n",
       "\n",
       "    .dataframe tbody tr th {\n",
       "        vertical-align: top;\n",
       "    }\n",
       "\n",
       "    .dataframe thead th {\n",
       "        text-align: right;\n",
       "    }\n",
       "</style>\n",
       "<table border=\"1\" class=\"dataframe\">\n",
       "  <thead>\n",
       "    <tr style=\"text-align: right;\">\n",
       "      <th></th>\n",
       "      <th>Standard Type</th>\n",
       "      <th>Standard Value</th>\n",
       "      <th>Smiles</th>\n",
       "      <th>pChEMBL Value</th>\n",
       "    </tr>\n",
       "  </thead>\n",
       "  <tbody>\n",
       "    <tr>\n",
       "      <th>2</th>\n",
       "      <td>Ki</td>\n",
       "      <td>1.0000</td>\n",
       "      <td>C1CCN(C1)C2=NC(=CC(=C2)S(=O)(=O)C3=CC=C(C=C3)N)Br</td>\n",
       "      <td>NaN</td>\n",
       "    </tr>\n",
       "    <tr>\n",
       "      <th>8</th>\n",
       "      <td>Ki</td>\n",
       "      <td>2.2910</td>\n",
       "      <td>CNC1=NC(=CC(=C1)S(=O)(=O)C2=CC=C(C=C2)N)Br</td>\n",
       "      <td>NaN</td>\n",
       "    </tr>\n",
       "    <tr>\n",
       "      <th>9</th>\n",
       "      <td>Ki</td>\n",
       "      <td>0.1148</td>\n",
       "      <td>C1CN(CCN1)C2=NC(=CC(=C2)S(=O)(=O)C3=CC=C(C=C3)...</td>\n",
       "      <td>NaN</td>\n",
       "    </tr>\n",
       "    <tr>\n",
       "      <th>11</th>\n",
       "      <td>Ki</td>\n",
       "      <td>53.7000</td>\n",
       "      <td>C1=CC(=CC=C1N)S(=O)(=O)C2=CC(=NC(=C2)Br)Br</td>\n",
       "      <td>NaN</td>\n",
       "    </tr>\n",
       "    <tr>\n",
       "      <th>13</th>\n",
       "      <td>Ki</td>\n",
       "      <td>54.9500</td>\n",
       "      <td>CNC1=CC(=NC(=N1)NC)NS(=O)(=O)C2=CC=C(C=C2)N.Br.Br</td>\n",
       "      <td>NaN</td>\n",
       "    </tr>\n",
       "    <tr>\n",
       "      <th>...</th>\n",
       "      <td>...</td>\n",
       "      <td>...</td>\n",
       "      <td>...</td>\n",
       "      <td>...</td>\n",
       "    </tr>\n",
       "    <tr>\n",
       "      <th>5193</th>\n",
       "      <td>Ki</td>\n",
       "      <td>58.0000</td>\n",
       "      <td>COc1ccc(Cc2nc(N3CCNCC3)nc3cccnc23)c(OC)c1</td>\n",
       "      <td>7.24</td>\n",
       "    </tr>\n",
       "    <tr>\n",
       "      <th>5201</th>\n",
       "      <td>Ki</td>\n",
       "      <td>20.0000</td>\n",
       "      <td>O=C1Cc2cc(CCN3CCN(c4nsc5ccccc45)CC3)c(Cl)cc2N1</td>\n",
       "      <td>7.70</td>\n",
       "    </tr>\n",
       "    <tr>\n",
       "      <th>5202</th>\n",
       "      <td>Ki</td>\n",
       "      <td>176.0000</td>\n",
       "      <td>O=S(=O)(c1cccc2ncccc12)N1CCCCC[C@H]1CCN1CCN(c2...</td>\n",
       "      <td>6.75</td>\n",
       "    </tr>\n",
       "    <tr>\n",
       "      <th>5203</th>\n",
       "      <td>Ki</td>\n",
       "      <td>104.0000</td>\n",
       "      <td>O=S(=O)(c1cncc2ccccc12)N1CC[C@@H]1CCN1CCN(c2cc...</td>\n",
       "      <td>6.98</td>\n",
       "    </tr>\n",
       "    <tr>\n",
       "      <th>5204</th>\n",
       "      <td>Ki</td>\n",
       "      <td>313.0000</td>\n",
       "      <td>O=S(=O)(c1cncc2ccccc12)N1CCC[C@H]1CCN1CCN(c2ns...</td>\n",
       "      <td>6.50</td>\n",
       "    </tr>\n",
       "  </tbody>\n",
       "</table>\n",
       "<p>7057 rows × 4 columns</p>\n",
       "</div>"
      ],
      "text/plain": [
       "     Standard Type  Standard Value  \\\n",
       "2               Ki          1.0000   \n",
       "8               Ki          2.2910   \n",
       "9               Ki          0.1148   \n",
       "11              Ki         53.7000   \n",
       "13              Ki         54.9500   \n",
       "...            ...             ...   \n",
       "5193            Ki         58.0000   \n",
       "5201            Ki         20.0000   \n",
       "5202            Ki        176.0000   \n",
       "5203            Ki        104.0000   \n",
       "5204            Ki        313.0000   \n",
       "\n",
       "                                                 Smiles  pChEMBL Value  \n",
       "2     C1CCN(C1)C2=NC(=CC(=C2)S(=O)(=O)C3=CC=C(C=C3)N)Br            NaN  \n",
       "8            CNC1=NC(=CC(=C1)S(=O)(=O)C2=CC=C(C=C2)N)Br            NaN  \n",
       "9     C1CN(CCN1)C2=NC(=CC(=C2)S(=O)(=O)C3=CC=C(C=C3)...            NaN  \n",
       "11           C1=CC(=CC=C1N)S(=O)(=O)C2=CC(=NC(=C2)Br)Br            NaN  \n",
       "13    CNC1=CC(=NC(=N1)NC)NS(=O)(=O)C2=CC=C(C=C2)N.Br.Br            NaN  \n",
       "...                                                 ...            ...  \n",
       "5193          COc1ccc(Cc2nc(N3CCNCC3)nc3cccnc23)c(OC)c1           7.24  \n",
       "5201     O=C1Cc2cc(CCN3CCN(c4nsc5ccccc45)CC3)c(Cl)cc2N1           7.70  \n",
       "5202  O=S(=O)(c1cccc2ncccc12)N1CCCCC[C@H]1CCN1CCN(c2...           6.75  \n",
       "5203  O=S(=O)(c1cncc2ccccc12)N1CC[C@@H]1CCN1CCN(c2cc...           6.98  \n",
       "5204  O=S(=O)(c1cncc2ccccc12)N1CCC[C@H]1CCN1CCN(c2ns...           6.50  \n",
       "\n",
       "[7057 rows x 4 columns]"
      ]
     },
     "execution_count": 258,
     "metadata": {},
     "output_type": "execute_result"
    }
   ],
   "source": [
    "concat_df"
   ]
  },
  {
   "cell_type": "code",
   "execution_count": 267,
   "metadata": {},
   "outputs": [],
   "source": [
    "concat_df.to_csv(r'C:\\Users\\pecho\\Documents\\serotonin_receptor_project\\databases\\clean_dbs\\concat_db_human_5ht6.csv', sep='\\t', index=False)"
   ]
  }
 ],
 "metadata": {
  "kernelspec": {
   "display_name": "Python 3.7.13 ('rdkit-env')",
   "language": "python",
   "name": "python3"
  },
  "language_info": {
   "codemirror_mode": {
    "name": "ipython",
    "version": 3
   },
   "file_extension": ".py",
   "mimetype": "text/x-python",
   "name": "python",
   "nbconvert_exporter": "python",
   "pygments_lexer": "ipython3",
   "version": "3.7.13"
  },
  "orig_nbformat": 4,
  "vscode": {
   "interpreter": {
    "hash": "a694807c9b1a745d85aaf44082616ccf97187531b3dfc8c019cc803a2159b822"
   }
  }
 },
 "nbformat": 4,
 "nbformat_minor": 2
}
