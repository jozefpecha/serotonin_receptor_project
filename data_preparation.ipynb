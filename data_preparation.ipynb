{
 "cells": [
  {
   "cell_type": "markdown",
   "metadata": {},
   "source": [
    "# Data preparation"
   ]
  },
  {
   "cell_type": "code",
   "execution_count": 3,
   "metadata": {},
   "outputs": [],
   "source": [
    "import pandas as pd"
   ]
  },
  {
   "cell_type": "markdown",
   "metadata": {},
   "source": [
    "### Load dbs"
   ]
  },
  {
   "cell_type": "code",
   "execution_count": 66,
   "metadata": {},
   "outputs": [],
   "source": [
    "pubchem_db = r'C:\\Users\\pecho\\Documents\\serotonin_receptor_project\\databases\\original_dbs\\pubchem_human_5ht6.csv'\n",
    "chembl_db = r'C:\\Users\\pecho\\Documents\\serotonin_receptor_project\\databases\\original_dbs\\chembl_human_5ht6.csv'"
   ]
  },
  {
   "cell_type": "code",
   "execution_count": 243,
   "metadata": {},
   "outputs": [],
   "source": [
    "pubchem_df = pd.read_csv(pubchem_db, sep=',')\n",
    "chembl_df = pd.read_csv(chembl_db, sep=';')"
   ]
  },
  {
   "cell_type": "markdown",
   "metadata": {},
   "source": [
    "### Filter out unnecessary columns"
   ]
  },
  {
   "cell_type": "code",
   "execution_count": 12,
   "metadata": {},
   "outputs": [
    {
     "data": {
      "text/plain": [
       "Index(['baid', 'activity', 'aid', 'sid', 'cid', 'geneid', 'pmid', 'aidtype',\n",
       "       'aidmdate', 'hasdrc', 'rnai', 'protacxn', 'acname', 'acqualifier',\n",
       "       'acvalue', 'aidsrcname', 'aidname', 'cmpdname', 'targetname',\n",
       "       'targeturl', 'ecs', 'repacxn', 'taxids', 'cellids', 'targettaxid'],\n",
       "      dtype='object')"
      ]
     },
     "execution_count": 12,
     "metadata": {},
     "output_type": "execute_result"
    }
   ],
   "source": [
    "pubchem_df.columns"
   ]
  },
  {
   "cell_type": "code",
   "execution_count": 14,
   "metadata": {},
   "outputs": [
    {
     "data": {
      "text/plain": [
       "Index(['Molecule ChEMBL ID', 'Molecule Name', 'Molecule Max Phase',\n",
       "       'Molecular Weight', '#RO5 Violations', 'AlogP', 'Compound Key',\n",
       "       'Smiles', 'Standard Type', 'Standard Relation', 'Standard Value',\n",
       "       'Standard Units', 'pChEMBL Value', 'Data Validity Comment', 'Comment',\n",
       "       'Uo Units', 'Ligand Efficiency BEI', 'Ligand Efficiency LE',\n",
       "       'Ligand Efficiency LLE', 'Ligand Efficiency SEI', 'Potential Duplicate',\n",
       "       'Assay ChEMBL ID', 'Assay Description', 'Assay Type', 'BAO Format ID',\n",
       "       'BAO Label', 'Assay Organism', 'Assay Tissue ChEMBL ID',\n",
       "       'Assay Tissue Name', 'Assay Cell Type', 'Assay Subcellular Fraction',\n",
       "       'Assay Parameters', 'Assay Variant Accession', 'Assay Variant Mutation',\n",
       "       'Target ChEMBL ID', 'Target Name', 'Target Organism', 'Target Type',\n",
       "       'Document ChEMBL ID', 'Source ID', 'Source Description',\n",
       "       'Document Journal', 'Document Year', 'Cell ChEMBL ID', 'Properties'],\n",
       "      dtype='object')"
      ]
     },
     "execution_count": 14,
     "metadata": {},
     "output_type": "execute_result"
    }
   ],
   "source": [
    "chembl_df.columns"
   ]
  },
  {
   "cell_type": "code",
   "execution_count": 155,
   "metadata": {},
   "outputs": [],
   "source": [
    "pubchem_columns = ['sid', 'acname', 'acqualifier', 'acvalue', 'activity']\n",
    "chembl_columns = ['Smiles', 'Standard Type', 'Standard Relation', 'Standard Value', 'Standard Units', 'pChEMBL Value']"
   ]
  },
  {
   "cell_type": "code",
   "execution_count": 244,
   "metadata": {},
   "outputs": [],
   "source": [
    "pubchem_df = pubchem_df.drop(columns=[column for column in pubchem_df.columns if column not in pubchem_columns])\n",
    "chembl_df = chembl_df.drop(columns=[column for column in chembl_df.columns if column not in chembl_columns])"
   ]
  },
  {
   "cell_type": "markdown",
   "metadata": {},
   "source": [
    "### Add smiles to pubchem dataset\n",
    "\n",
    "Smiles were obtained through Pubchem Identifier Exchange Service based on SID"
   ]
  },
  {
   "cell_type": "code",
   "execution_count": 157,
   "metadata": {},
   "outputs": [],
   "source": [
    "pubchem_smiles = r'C:\\Users\\pecho\\Documents\\serotonin_receptor_project\\databases\\original_dbs\\pubchem_db_smiles.csv'\n",
    "pubchem_smiles_df = pd.read_csv(pubchem_smiles, sep=\"\\t\")"
   ]
  },
  {
   "cell_type": "code",
   "execution_count": 245,
   "metadata": {},
   "outputs": [],
   "source": [
    "pubchem_df = pd.merge(pubchem_df, pubchem_smiles_df, how='left')"
   ]
  },
  {
   "cell_type": "code",
   "execution_count": 246,
   "metadata": {},
   "outputs": [],
   "source": [
    "pubchem_df.drop_duplicates(subset=['sid'], inplace=True)"
   ]
  },
  {
   "cell_type": "code",
   "execution_count": 247,
   "metadata": {},
   "outputs": [],
   "source": [
    "# renaming columns so that they much ChEMBL dataset column names\n",
    "pubchem_df = pubchem_df.rename(columns= {'acname': 'Standard Type', 'acqualifier': 'Standard Relation', 'acvalue': 'Standard Value'})"
   ]
  },
  {
   "cell_type": "markdown",
   "metadata": {},
   "source": [
    "### Clean pubchem dataset"
   ]
  },
  {
   "cell_type": "code",
   "execution_count": 248,
   "metadata": {},
   "outputs": [],
   "source": [
    "pubchem_df = pubchem_df.drop(pubchem_df[pubchem_df['Standard Type'] != 'Ki'].index)\n",
    "pubchem_df = pubchem_df.drop(pubchem_df[pubchem_df['Standard Relation'] != '='].index)\n",
    "pubchem_df = pubchem_df.drop(pubchem_df[pubchem_df['activity'] != 'Active'].index)\n",
    "pubchem_df = pubchem_df.drop(columns=['activity'])\n",
    "pubchem_df.dropna(inplace=True)"
   ]
  },
  {
   "cell_type": "code",
   "execution_count": 249,
   "metadata": {},
   "outputs": [],
   "source": [
    "# Convert mikro mol Ki to nmol\n",
    "pubchem_df['Standard Value'] = pubchem_df['Standard Value'].multiply(1000)"
   ]
  },
  {
   "cell_type": "code",
   "execution_count": 250,
   "metadata": {},
   "outputs": [],
   "source": [
    "pubchem_df = pubchem_df.drop(columns=['Standard Relation', 'sid'])"
   ]
  },
  {
   "cell_type": "code",
   "execution_count": 251,
   "metadata": {},
   "outputs": [
    {
     "data": {
      "text/html": [
       "<div>\n",
       "<style scoped>\n",
       "    .dataframe tbody tr th:only-of-type {\n",
       "        vertical-align: middle;\n",
       "    }\n",
       "\n",
       "    .dataframe tbody tr th {\n",
       "        vertical-align: top;\n",
       "    }\n",
       "\n",
       "    .dataframe thead th {\n",
       "        text-align: right;\n",
       "    }\n",
       "</style>\n",
       "<table border=\"1\" class=\"dataframe\">\n",
       "  <thead>\n",
       "    <tr style=\"text-align: right;\">\n",
       "      <th></th>\n",
       "      <th>Standard Type</th>\n",
       "      <th>Standard Value</th>\n",
       "      <th>Smiles</th>\n",
       "    </tr>\n",
       "  </thead>\n",
       "  <tbody>\n",
       "    <tr>\n",
       "      <th>2</th>\n",
       "      <td>Ki</td>\n",
       "      <td>1.0000</td>\n",
       "      <td>C1CCN(C1)C2=NC(=CC(=C2)S(=O)(=O)C3=CC=C(C=C3)N)Br</td>\n",
       "    </tr>\n",
       "    <tr>\n",
       "      <th>8</th>\n",
       "      <td>Ki</td>\n",
       "      <td>2.2910</td>\n",
       "      <td>CNC1=NC(=CC(=C1)S(=O)(=O)C2=CC=C(C=C2)N)Br</td>\n",
       "    </tr>\n",
       "    <tr>\n",
       "      <th>9</th>\n",
       "      <td>Ki</td>\n",
       "      <td>0.1148</td>\n",
       "      <td>C1CN(CCN1)C2=NC(=CC(=C2)S(=O)(=O)C3=CC=C(C=C3)...</td>\n",
       "    </tr>\n",
       "    <tr>\n",
       "      <th>11</th>\n",
       "      <td>Ki</td>\n",
       "      <td>53.7000</td>\n",
       "      <td>C1=CC(=CC=C1N)S(=O)(=O)C2=CC(=NC(=C2)Br)Br</td>\n",
       "    </tr>\n",
       "    <tr>\n",
       "      <th>13</th>\n",
       "      <td>Ki</td>\n",
       "      <td>54.9500</td>\n",
       "      <td>CNC1=CC(=NC(=N1)NC)NS(=O)(=O)C2=CC=C(C=C2)N.Br.Br</td>\n",
       "    </tr>\n",
       "    <tr>\n",
       "      <th>...</th>\n",
       "      <td>...</td>\n",
       "      <td>...</td>\n",
       "      <td>...</td>\n",
       "    </tr>\n",
       "    <tr>\n",
       "      <th>18349</th>\n",
       "      <td>Ki</td>\n",
       "      <td>102.0000</td>\n",
       "      <td>C1CNCC=C1C2=CN(C3=C2C=CC(=C3)Cl)S(=O)(=O)C4=CC...</td>\n",
       "    </tr>\n",
       "    <tr>\n",
       "      <th>18350</th>\n",
       "      <td>Ki</td>\n",
       "      <td>30.0000</td>\n",
       "      <td>COC1=CC2=C(C=C1)N(C=C2C3CCNCC3)S(=O)(=O)C4=CC5...</td>\n",
       "    </tr>\n",
       "    <tr>\n",
       "      <th>18351</th>\n",
       "      <td>Ki</td>\n",
       "      <td>14.0000</td>\n",
       "      <td>COC1=CC2=C(C=C1)N(C=C2C3=CCNCC3)S(=O)(=O)C4=CC...</td>\n",
       "    </tr>\n",
       "    <tr>\n",
       "      <th>18352</th>\n",
       "      <td>Ki</td>\n",
       "      <td>7.0000</td>\n",
       "      <td>C1CNCC=C1C2=CN(C3=CC=CC=C32)S(=O)(=O)C4=CC5=C(...</td>\n",
       "    </tr>\n",
       "    <tr>\n",
       "      <th>18353</th>\n",
       "      <td>Ki</td>\n",
       "      <td>11.0000</td>\n",
       "      <td>C1CNCC=C1C2=CN(C3=C2C=C(C=C3)Cl)S(=O)(=O)C4=CC...</td>\n",
       "    </tr>\n",
       "  </tbody>\n",
       "</table>\n",
       "<p>3063 rows × 3 columns</p>\n",
       "</div>"
      ],
      "text/plain": [
       "      Standard Type  Standard Value  \\\n",
       "2                Ki          1.0000   \n",
       "8                Ki          2.2910   \n",
       "9                Ki          0.1148   \n",
       "11               Ki         53.7000   \n",
       "13               Ki         54.9500   \n",
       "...             ...             ...   \n",
       "18349            Ki        102.0000   \n",
       "18350            Ki         30.0000   \n",
       "18351            Ki         14.0000   \n",
       "18352            Ki          7.0000   \n",
       "18353            Ki         11.0000   \n",
       "\n",
       "                                                  Smiles  \n",
       "2      C1CCN(C1)C2=NC(=CC(=C2)S(=O)(=O)C3=CC=C(C=C3)N)Br  \n",
       "8             CNC1=NC(=CC(=C1)S(=O)(=O)C2=CC=C(C=C2)N)Br  \n",
       "9      C1CN(CCN1)C2=NC(=CC(=C2)S(=O)(=O)C3=CC=C(C=C3)...  \n",
       "11            C1=CC(=CC=C1N)S(=O)(=O)C2=CC(=NC(=C2)Br)Br  \n",
       "13     CNC1=CC(=NC(=N1)NC)NS(=O)(=O)C2=CC=C(C=C2)N.Br.Br  \n",
       "...                                                  ...  \n",
       "18349  C1CNCC=C1C2=CN(C3=C2C=CC(=C3)Cl)S(=O)(=O)C4=CC...  \n",
       "18350  COC1=CC2=C(C=C1)N(C=C2C3CCNCC3)S(=O)(=O)C4=CC5...  \n",
       "18351  COC1=CC2=C(C=C1)N(C=C2C3=CCNCC3)S(=O)(=O)C4=CC...  \n",
       "18352  C1CNCC=C1C2=CN(C3=CC=CC=C32)S(=O)(=O)C4=CC5=C(...  \n",
       "18353  C1CNCC=C1C2=CN(C3=C2C=C(C=C3)Cl)S(=O)(=O)C4=CC...  \n",
       "\n",
       "[3063 rows x 3 columns]"
      ]
     },
     "execution_count": 251,
     "metadata": {},
     "output_type": "execute_result"
    }
   ],
   "source": [
    "pubchem_df"
   ]
  },
  {
   "cell_type": "code",
   "execution_count": 255,
   "metadata": {},
   "outputs": [],
   "source": [
    "pubchem_df.to_csv(r'C:\\Users\\pecho\\Documents\\serotonin_receptor_project\\databases\\clean_dbs\\pubchem_human_5ht6.csv', sep='\\t')"
   ]
  },
  {
   "cell_type": "markdown",
   "metadata": {},
   "source": [
    "### Clean chembl dataset"
   ]
  },
  {
   "cell_type": "code",
   "execution_count": 252,
   "metadata": {},
   "outputs": [],
   "source": [
    "chembl_df = chembl_df.drop(chembl_df[chembl_df['Standard Type'] != 'Ki'].index)\n",
    "chembl_df = chembl_df.drop(chembl_df[chembl_df['Standard Relation'] != \"'='\"].index)\n",
    "chembl_df.drop_duplicates(subset=['Smiles'], inplace=True)\n",
    "chembl_df.dropna(inplace=True)"
   ]
  },
  {
   "cell_type": "code",
   "execution_count": 253,
   "metadata": {},
   "outputs": [],
   "source": [
    "chembl_df = chembl_df.drop(columns=['Standard Relation', 'Standard Units'])"
   ]
  },
  {
   "cell_type": "code",
   "execution_count": 254,
   "metadata": {},
   "outputs": [
    {
     "data": {
      "text/html": [
       "<div>\n",
       "<style scoped>\n",
       "    .dataframe tbody tr th:only-of-type {\n",
       "        vertical-align: middle;\n",
       "    }\n",
       "\n",
       "    .dataframe tbody tr th {\n",
       "        vertical-align: top;\n",
       "    }\n",
       "\n",
       "    .dataframe thead th {\n",
       "        text-align: right;\n",
       "    }\n",
       "</style>\n",
       "<table border=\"1\" class=\"dataframe\">\n",
       "  <thead>\n",
       "    <tr style=\"text-align: right;\">\n",
       "      <th></th>\n",
       "      <th>Smiles</th>\n",
       "      <th>Standard Type</th>\n",
       "      <th>Standard Value</th>\n",
       "      <th>pChEMBL Value</th>\n",
       "    </tr>\n",
       "  </thead>\n",
       "  <tbody>\n",
       "    <tr>\n",
       "      <th>0</th>\n",
       "      <td>CC(C)c1ccc(S(=O)(=O)n2cc(N3CCN(C)CC3)c3ccccc32...</td>\n",
       "      <td>Ki</td>\n",
       "      <td>3.400</td>\n",
       "      <td>8.47</td>\n",
       "    </tr>\n",
       "    <tr>\n",
       "      <th>1</th>\n",
       "      <td>COc1ccc(Cl)cc1NS(=O)(=O)c1ccc(OC)c(N2CCNCC2)c1</td>\n",
       "      <td>Ki</td>\n",
       "      <td>1.259</td>\n",
       "      <td>8.90</td>\n",
       "    </tr>\n",
       "    <tr>\n",
       "      <th>2</th>\n",
       "      <td>CNc1cc(S(=O)(=O)Nc2ccc(N)cc2)cc(Br)n1</td>\n",
       "      <td>Ki</td>\n",
       "      <td>42.660</td>\n",
       "      <td>7.37</td>\n",
       "    </tr>\n",
       "    <tr>\n",
       "      <th>4</th>\n",
       "      <td>CC([Se]c1ccccc1)c1nc(N)nc(N2CCN(C)CC2)n1</td>\n",
       "      <td>Ki</td>\n",
       "      <td>111.000</td>\n",
       "      <td>6.96</td>\n",
       "    </tr>\n",
       "    <tr>\n",
       "      <th>6</th>\n",
       "      <td>CN1CCN(c2nc(N)nc(CSc3ccccc3)n2)CC1</td>\n",
       "      <td>Ki</td>\n",
       "      <td>26.000</td>\n",
       "      <td>7.58</td>\n",
       "    </tr>\n",
       "    <tr>\n",
       "      <th>...</th>\n",
       "      <td>...</td>\n",
       "      <td>...</td>\n",
       "      <td>...</td>\n",
       "      <td>...</td>\n",
       "    </tr>\n",
       "    <tr>\n",
       "      <th>5193</th>\n",
       "      <td>COc1ccc(Cc2nc(N3CCNCC3)nc3cccnc23)c(OC)c1</td>\n",
       "      <td>Ki</td>\n",
       "      <td>58.000</td>\n",
       "      <td>7.24</td>\n",
       "    </tr>\n",
       "    <tr>\n",
       "      <th>5201</th>\n",
       "      <td>O=C1Cc2cc(CCN3CCN(c4nsc5ccccc45)CC3)c(Cl)cc2N1</td>\n",
       "      <td>Ki</td>\n",
       "      <td>20.000</td>\n",
       "      <td>7.70</td>\n",
       "    </tr>\n",
       "    <tr>\n",
       "      <th>5202</th>\n",
       "      <td>O=S(=O)(c1cccc2ncccc12)N1CCCCC[C@H]1CCN1CCN(c2...</td>\n",
       "      <td>Ki</td>\n",
       "      <td>176.000</td>\n",
       "      <td>6.75</td>\n",
       "    </tr>\n",
       "    <tr>\n",
       "      <th>5203</th>\n",
       "      <td>O=S(=O)(c1cncc2ccccc12)N1CC[C@@H]1CCN1CCN(c2cc...</td>\n",
       "      <td>Ki</td>\n",
       "      <td>104.000</td>\n",
       "      <td>6.98</td>\n",
       "    </tr>\n",
       "    <tr>\n",
       "      <th>5204</th>\n",
       "      <td>O=S(=O)(c1cncc2ccccc12)N1CCC[C@H]1CCN1CCN(c2ns...</td>\n",
       "      <td>Ki</td>\n",
       "      <td>313.000</td>\n",
       "      <td>6.50</td>\n",
       "    </tr>\n",
       "  </tbody>\n",
       "</table>\n",
       "<p>3994 rows × 4 columns</p>\n",
       "</div>"
      ],
      "text/plain": [
       "                                                 Smiles Standard Type  \\\n",
       "0     CC(C)c1ccc(S(=O)(=O)n2cc(N3CCN(C)CC3)c3ccccc32...            Ki   \n",
       "1        COc1ccc(Cl)cc1NS(=O)(=O)c1ccc(OC)c(N2CCNCC2)c1            Ki   \n",
       "2                 CNc1cc(S(=O)(=O)Nc2ccc(N)cc2)cc(Br)n1            Ki   \n",
       "4              CC([Se]c1ccccc1)c1nc(N)nc(N2CCN(C)CC2)n1            Ki   \n",
       "6                    CN1CCN(c2nc(N)nc(CSc3ccccc3)n2)CC1            Ki   \n",
       "...                                                 ...           ...   \n",
       "5193          COc1ccc(Cc2nc(N3CCNCC3)nc3cccnc23)c(OC)c1            Ki   \n",
       "5201     O=C1Cc2cc(CCN3CCN(c4nsc5ccccc45)CC3)c(Cl)cc2N1            Ki   \n",
       "5202  O=S(=O)(c1cccc2ncccc12)N1CCCCC[C@H]1CCN1CCN(c2...            Ki   \n",
       "5203  O=S(=O)(c1cncc2ccccc12)N1CC[C@@H]1CCN1CCN(c2cc...            Ki   \n",
       "5204  O=S(=O)(c1cncc2ccccc12)N1CCC[C@H]1CCN1CCN(c2ns...            Ki   \n",
       "\n",
       "      Standard Value  pChEMBL Value  \n",
       "0              3.400           8.47  \n",
       "1              1.259           8.90  \n",
       "2             42.660           7.37  \n",
       "4            111.000           6.96  \n",
       "6             26.000           7.58  \n",
       "...              ...            ...  \n",
       "5193          58.000           7.24  \n",
       "5201          20.000           7.70  \n",
       "5202         176.000           6.75  \n",
       "5203         104.000           6.98  \n",
       "5204         313.000           6.50  \n",
       "\n",
       "[3994 rows x 4 columns]"
      ]
     },
     "execution_count": 254,
     "metadata": {},
     "output_type": "execute_result"
    }
   ],
   "source": [
    "chembl_df"
   ]
  },
  {
   "cell_type": "code",
   "execution_count": 264,
   "metadata": {},
   "outputs": [],
   "source": [
    "chembl_df.to_csv(r'C:\\Users\\pecho\\Documents\\serotonin_receptor_project\\databases\\clean_dbs\\chembl_human_5ht6.csv', sep='\\t')"
   ]
  },
  {
   "cell_type": "markdown",
   "metadata": {},
   "source": [
    "### Concatenate the two dataframes"
   ]
  },
  {
   "cell_type": "code",
   "execution_count": 257,
   "metadata": {},
   "outputs": [],
   "source": [
    "dataframes = [pubchem_df, chembl_df]\n",
    "concat_df = pd.concat(dataframes)"
   ]
  },
  {
   "cell_type": "code",
   "execution_count": 258,
   "metadata": {},
   "outputs": [
    {
     "data": {
      "text/html": [
       "<div>\n",
       "<style scoped>\n",
       "    .dataframe tbody tr th:only-of-type {\n",
       "        vertical-align: middle;\n",
       "    }\n",
       "\n",
       "    .dataframe tbody tr th {\n",
       "        vertical-align: top;\n",
       "    }\n",
       "\n",
       "    .dataframe thead th {\n",
       "        text-align: right;\n",
       "    }\n",
       "</style>\n",
       "<table border=\"1\" class=\"dataframe\">\n",
       "  <thead>\n",
       "    <tr style=\"text-align: right;\">\n",
       "      <th></th>\n",
       "      <th>Standard Type</th>\n",
       "      <th>Standard Value</th>\n",
       "      <th>Smiles</th>\n",
       "      <th>pChEMBL Value</th>\n",
       "    </tr>\n",
       "  </thead>\n",
       "  <tbody>\n",
       "    <tr>\n",
       "      <th>2</th>\n",
       "      <td>Ki</td>\n",
       "      <td>1.0000</td>\n",
       "      <td>C1CCN(C1)C2=NC(=CC(=C2)S(=O)(=O)C3=CC=C(C=C3)N)Br</td>\n",
       "      <td>NaN</td>\n",
       "    </tr>\n",
       "    <tr>\n",
       "      <th>8</th>\n",
       "      <td>Ki</td>\n",
       "      <td>2.2910</td>\n",
       "      <td>CNC1=NC(=CC(=C1)S(=O)(=O)C2=CC=C(C=C2)N)Br</td>\n",
       "      <td>NaN</td>\n",
       "    </tr>\n",
       "    <tr>\n",
       "      <th>9</th>\n",
       "      <td>Ki</td>\n",
       "      <td>0.1148</td>\n",
       "      <td>C1CN(CCN1)C2=NC(=CC(=C2)S(=O)(=O)C3=CC=C(C=C3)...</td>\n",
       "      <td>NaN</td>\n",
       "    </tr>\n",
       "    <tr>\n",
       "      <th>11</th>\n",
       "      <td>Ki</td>\n",
       "      <td>53.7000</td>\n",
       "      <td>C1=CC(=CC=C1N)S(=O)(=O)C2=CC(=NC(=C2)Br)Br</td>\n",
       "      <td>NaN</td>\n",
       "    </tr>\n",
       "    <tr>\n",
       "      <th>13</th>\n",
       "      <td>Ki</td>\n",
       "      <td>54.9500</td>\n",
       "      <td>CNC1=CC(=NC(=N1)NC)NS(=O)(=O)C2=CC=C(C=C2)N.Br.Br</td>\n",
       "      <td>NaN</td>\n",
       "    </tr>\n",
       "    <tr>\n",
       "      <th>...</th>\n",
       "      <td>...</td>\n",
       "      <td>...</td>\n",
       "      <td>...</td>\n",
       "      <td>...</td>\n",
       "    </tr>\n",
       "    <tr>\n",
       "      <th>5193</th>\n",
       "      <td>Ki</td>\n",
       "      <td>58.0000</td>\n",
       "      <td>COc1ccc(Cc2nc(N3CCNCC3)nc3cccnc23)c(OC)c1</td>\n",
       "      <td>7.24</td>\n",
       "    </tr>\n",
       "    <tr>\n",
       "      <th>5201</th>\n",
       "      <td>Ki</td>\n",
       "      <td>20.0000</td>\n",
       "      <td>O=C1Cc2cc(CCN3CCN(c4nsc5ccccc45)CC3)c(Cl)cc2N1</td>\n",
       "      <td>7.70</td>\n",
       "    </tr>\n",
       "    <tr>\n",
       "      <th>5202</th>\n",
       "      <td>Ki</td>\n",
       "      <td>176.0000</td>\n",
       "      <td>O=S(=O)(c1cccc2ncccc12)N1CCCCC[C@H]1CCN1CCN(c2...</td>\n",
       "      <td>6.75</td>\n",
       "    </tr>\n",
       "    <tr>\n",
       "      <th>5203</th>\n",
       "      <td>Ki</td>\n",
       "      <td>104.0000</td>\n",
       "      <td>O=S(=O)(c1cncc2ccccc12)N1CC[C@@H]1CCN1CCN(c2cc...</td>\n",
       "      <td>6.98</td>\n",
       "    </tr>\n",
       "    <tr>\n",
       "      <th>5204</th>\n",
       "      <td>Ki</td>\n",
       "      <td>313.0000</td>\n",
       "      <td>O=S(=O)(c1cncc2ccccc12)N1CCC[C@H]1CCN1CCN(c2ns...</td>\n",
       "      <td>6.50</td>\n",
       "    </tr>\n",
       "  </tbody>\n",
       "</table>\n",
       "<p>7057 rows × 4 columns</p>\n",
       "</div>"
      ],
      "text/plain": [
       "     Standard Type  Standard Value  \\\n",
       "2               Ki          1.0000   \n",
       "8               Ki          2.2910   \n",
       "9               Ki          0.1148   \n",
       "11              Ki         53.7000   \n",
       "13              Ki         54.9500   \n",
       "...            ...             ...   \n",
       "5193            Ki         58.0000   \n",
       "5201            Ki         20.0000   \n",
       "5202            Ki        176.0000   \n",
       "5203            Ki        104.0000   \n",
       "5204            Ki        313.0000   \n",
       "\n",
       "                                                 Smiles  pChEMBL Value  \n",
       "2     C1CCN(C1)C2=NC(=CC(=C2)S(=O)(=O)C3=CC=C(C=C3)N)Br            NaN  \n",
       "8            CNC1=NC(=CC(=C1)S(=O)(=O)C2=CC=C(C=C2)N)Br            NaN  \n",
       "9     C1CN(CCN1)C2=NC(=CC(=C2)S(=O)(=O)C3=CC=C(C=C3)...            NaN  \n",
       "11           C1=CC(=CC=C1N)S(=O)(=O)C2=CC(=NC(=C2)Br)Br            NaN  \n",
       "13    CNC1=CC(=NC(=N1)NC)NS(=O)(=O)C2=CC=C(C=C2)N.Br.Br            NaN  \n",
       "...                                                 ...            ...  \n",
       "5193          COc1ccc(Cc2nc(N3CCNCC3)nc3cccnc23)c(OC)c1           7.24  \n",
       "5201     O=C1Cc2cc(CCN3CCN(c4nsc5ccccc45)CC3)c(Cl)cc2N1           7.70  \n",
       "5202  O=S(=O)(c1cccc2ncccc12)N1CCCCC[C@H]1CCN1CCN(c2...           6.75  \n",
       "5203  O=S(=O)(c1cncc2ccccc12)N1CC[C@@H]1CCN1CCN(c2cc...           6.98  \n",
       "5204  O=S(=O)(c1cncc2ccccc12)N1CCC[C@H]1CCN1CCN(c2ns...           6.50  \n",
       "\n",
       "[7057 rows x 4 columns]"
      ]
     },
     "execution_count": 258,
     "metadata": {},
     "output_type": "execute_result"
    }
   ],
   "source": [
    "concat_df"
   ]
  },
  {
   "cell_type": "code",
   "execution_count": 259,
   "metadata": {},
   "outputs": [],
   "source": [
    "concat_df.to_csv(r'C:\\Users\\pecho\\Documents\\serotonin_receptor_project\\databases\\clean_dbs\\concat_db_human_5ht6.csv', sep='\\t')"
   ]
  }
 ],
 "metadata": {
  "kernelspec": {
   "display_name": "Python 3.7.13 ('rdkit-env')",
   "language": "python",
   "name": "python3"
  },
  "language_info": {
   "codemirror_mode": {
    "name": "ipython",
    "version": 3
   },
   "file_extension": ".py",
   "mimetype": "text/x-python",
   "name": "python",
   "nbconvert_exporter": "python",
   "pygments_lexer": "ipython3",
   "version": "3.7.13"
  },
  "orig_nbformat": 4,
  "vscode": {
   "interpreter": {
    "hash": "a694807c9b1a745d85aaf44082616ccf97187531b3dfc8c019cc803a2159b822"
   }
  }
 },
 "nbformat": 4,
 "nbformat_minor": 2
}
